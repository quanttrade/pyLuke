{
 "cells": [
  {
   "cell_type": "code",
   "execution_count": null,
   "metadata": {
    "collapsed": false
   },
   "outputs": [],
   "source": [
    "# encoding: utf-8\n",
    "import pandas as pd\n",
    "import numpy as np\n",
    "\n",
    "\"\"\"验证最优配置模型和遍历最优是否具有等价效应\"\"\"\n",
    "# CAPM的方法\n",
    "data = pd.read_excel(u\"..\\\\data\\\\index_ret.xlsx\", sheetname=0)\n",
    "data.set_index([\"date\"], inplace=True)\n",
    "data = data.ix[1:20, [\"038B.CS\", \"038C.CS\"]]\n",
    "mean_ret = data.mean() * 250\n",
    "var = data.cov() * 250\n",
    "w = np.linalg.inv(var).dot(mean_ret)\n",
    "w = w/np.sum(w)\n",
    "v= w[0]**2*var.iloc[0,0]+w[1]**2*var.iloc[1,1]+2*w[0]*w[1]*var.iloc[1,0]\n",
    "print w\n",
    "print \"sharp ratio is {}\".format(np.dot(w,mean_ret)/np.sqrt(v))"
   ]
  },
  {
   "cell_type": "code",
   "execution_count": 1,
   "metadata": {
    "collapsed": false
   },
   "outputs": [
    {
     "ename": "NameError",
     "evalue": "name 'data' is not defined",
     "traceback": [
      "\u001b[0;31m\u001b[0m",
      "\u001b[0;31mNameError\u001b[0mTraceback (most recent call last)",
      "\u001b[0;32m<ipython-input-1-98b1dd8fe280>\u001b[0m in \u001b[0;36m<module>\u001b[0;34m()\u001b[0m\n\u001b[1;32m      7\u001b[0m     \u001b[0mi\u001b[0m \u001b[1;33m=\u001b[0m \u001b[0mk\u001b[0m \u001b[1;33m/\u001b[0m \u001b[1;36m100.0\u001b[0m \u001b[1;33m-\u001b[0m \u001b[1;36m5.0\u001b[0m\u001b[1;33m\u001b[0m\u001b[0m\n\u001b[1;32m      8\u001b[0m     \u001b[0mj\u001b[0m \u001b[1;33m=\u001b[0m \u001b[1;36m1\u001b[0m \u001b[1;33m-\u001b[0m \u001b[0mi\u001b[0m\u001b[1;33m\u001b[0m\u001b[0m\n\u001b[0;32m----> 9\u001b[0;31m     \u001b[0mnew_data\u001b[0m \u001b[1;33m=\u001b[0m \u001b[0mdata\u001b[0m\u001b[1;33m.\u001b[0m\u001b[0miloc\u001b[0m\u001b[1;33m[\u001b[0m\u001b[1;33m:\u001b[0m\u001b[1;33m,\u001b[0m \u001b[1;36m0\u001b[0m\u001b[1;33m]\u001b[0m \u001b[1;33m*\u001b[0m \u001b[0mi\u001b[0m \u001b[1;33m+\u001b[0m \u001b[0mdata\u001b[0m\u001b[1;33m.\u001b[0m\u001b[0miloc\u001b[0m\u001b[1;33m[\u001b[0m\u001b[1;33m:\u001b[0m\u001b[1;33m,\u001b[0m \u001b[1;36m1\u001b[0m\u001b[1;33m]\u001b[0m \u001b[1;33m*\u001b[0m \u001b[0mj\u001b[0m\u001b[1;33m\u001b[0m\u001b[0m\n\u001b[0m\u001b[1;32m     10\u001b[0m     \u001b[0mnew_var\u001b[0m \u001b[1;33m=\u001b[0m \u001b[0mnew_data\u001b[0m\u001b[1;33m.\u001b[0m\u001b[0mvar\u001b[0m\u001b[1;33m(\u001b[0m\u001b[1;33m)\u001b[0m \u001b[1;33m*\u001b[0m \u001b[1;36m250\u001b[0m\u001b[1;33m\u001b[0m\u001b[0m\n\u001b[1;32m     11\u001b[0m     \u001b[0mnew_mean\u001b[0m \u001b[1;33m=\u001b[0m \u001b[0mnew_data\u001b[0m\u001b[1;33m.\u001b[0m\u001b[0mmean\u001b[0m\u001b[1;33m(\u001b[0m\u001b[1;33m)\u001b[0m \u001b[1;33m*\u001b[0m \u001b[1;36m250\u001b[0m\u001b[1;33m\u001b[0m\u001b[0m\n",
      "\u001b[0;31mNameError\u001b[0m: name 'data' is not defined"
     ],
     "output_type": "error"
    }
   ],
   "source": [
    "# 遍历的方法\n",
    "i = 0\n",
    "j = 0\n",
    "maxsp = 0\n",
    "maxi = 0\n",
    "for k in range(1000):\n",
    "    i = k / 100.0 - 5.0\n",
    "    j = 1 - i\n",
    "    new_data = data.iloc[:, 0] * i + data.iloc[:, 1] * j\n",
    "    new_var = new_data.var() * 250\n",
    "    new_mean = new_data.mean() * 250\n",
    "    sp = new_mean / np.sqrt(new_var)\n",
    "    if sp > maxsp:\n",
    "        maxsp = sp\n",
    "        maxi = i\n",
    "w2 = [maxi, 1- maxi]\n",
    "new_data = data.iloc[:, 0] * maxi + data.iloc[:, 1] * (1-maxi)\n",
    "v2 = new_data.var()*250\n",
    "print w2\n",
    "print \"sharp_ ratio is {}\".format(maxsp)"
   ]
  },
  {
   "cell_type": "code",
   "execution_count": 1,
   "metadata": {
    "collapsed": false
   },
   "outputs": [
    {
     "name": "stdout",
     "output_type": "stream",
     "text": [
      "[-2.73774468  3.73774468]\n",
      "sharp ratio is -7.46538696523\n",
      "[44.99, -43.99]\n",
      "sharp_ ratio is 7.44393736244\n"
     ]
    },
    {
     "ename": "AttributeError",
     "evalue": "'numpy.float64' object has no attribute 'values'",
     "traceback": [
      "\u001b[0;31m\u001b[0m",
      "\u001b[0;31mAttributeError\u001b[0mTraceback (most recent call last)",
      "\u001b[0;32m<ipython-input-1-dc1b4132c722>\u001b[0m in \u001b[0;36m<module>\u001b[0;34m()\u001b[0m\n\u001b[1;32m     53\u001b[0m \u001b[1;32mprint\u001b[0m \u001b[1;34m\"sharp_ ratio is {}\"\u001b[0m\u001b[1;33m.\u001b[0m\u001b[0mformat\u001b[0m\u001b[1;33m(\u001b[0m\u001b[0mmaxsp\u001b[0m\u001b[1;33m)\u001b[0m\u001b[1;33m\u001b[0m\u001b[0m\n\u001b[1;32m     54\u001b[0m \u001b[1;31m# minimize方法\u001b[0m\u001b[1;33m\u001b[0m\u001b[1;33m\u001b[0m\u001b[0m\n\u001b[0;32m---> 55\u001b[0;31m \u001b[0mw3\u001b[0m \u001b[1;33m=\u001b[0m \u001b[0moptimize\u001b[0m\u001b[1;33m(\u001b[0m\u001b[0mmean_ret\u001b[0m\u001b[1;33m.\u001b[0m\u001b[0mvalues\u001b[0m\u001b[1;33m,\u001b[0m \u001b[0mvar\u001b[0m\u001b[1;33m.\u001b[0m\u001b[0mvalues\u001b[0m\u001b[1;33m)\u001b[0m\u001b[1;33m\u001b[0m\u001b[0m\n\u001b[0m\u001b[1;32m     56\u001b[0m \u001b[1;32mprint\u001b[0m \u001b[0mw3\u001b[0m\u001b[1;33m\u001b[0m\u001b[0m\n",
      "\u001b[0;31mAttributeError\u001b[0m: 'numpy.float64' object has no attribute 'values'"
     ],
     "output_type": "error"
    }
   ],
   "source": [
    "# encoding: utf-8\n",
    "import pandas as pd\n",
    "import numpy as np\n",
    "import scipy.optimize as spo\n",
    "\"\"\"验证最优配置模型和遍历最优是否具有等价效应\"\"\"\n",
    "\n",
    "\n",
    "def optimize(expect, var):\n",
    "    \"\"\"传入期望收益率向量和协方差矩阵\n",
    "       返回最优权重向量\n",
    "    \"\"\"\n",
    "    x0 = np.ones(len(expect)) / float(len(expect))\n",
    "    fun = lambda x: -np.dot(x, expect) / sqrt(np.dot(x, var).doct(x))\n",
    "    cons = ({'type': 'eq', 'fun': lambda x: np.sum(x) - 1})\n",
    "    bnds = [(0, None)] * len(expect)\n",
    "    res = spo.minimize(fun, x0, tol=1e-6)\n",
    "    return res.x\n",
    "\n",
    "\n",
    "# encoding: utf-8\n",
    "import pandas as pd\n",
    "import numpy as np\n",
    "\n",
    "\"\"\"验证最优配置模型和遍历最优是否具有等价效应\"\"\"\n",
    "# CAPM的方法\n",
    "data = pd.read_excel(u\"..\\\\data\\\\index_ret.xlsx\", sheetname=0)\n",
    "data.set_index([\"date\"], inplace=True)\n",
    "data = data.ix[0:20, [\"038B.CS\", \"038C.CS\"]]\n",
    "mean_ret = data.mean() * 250\n",
    "var = data.cov() * 250\n",
    "w = np.linalg.inv(var).dot(mean_ret)\n",
    "w = w / np.sum(w)\n",
    "var = w[0] ** 2 * var.iloc[0, 0] + w[1] ** 2 * var.iloc[1, 1] + 2 * w[0] * w[1] * var.iloc[1, 0]\n",
    "print w\n",
    "print \"sharp ratio is {}\".format(np.dot(w, mean_ret) / np.sqrt(var))\n",
    "# 遍历的方法\n",
    "i = 0\n",
    "j = 0\n",
    "maxsp = 0\n",
    "maxi = 0\n",
    "for k in range(5000):\n",
    "    i = k / 100.0 - 5.0\n",
    "    j = 1 - i\n",
    "    new_data = data.iloc[:, 0] * i + data.iloc[:, 1] * j\n",
    "    new_var = new_data.var() * 250\n",
    "    new_mean = new_data.mean() * 250\n",
    "    sp = new_mean / np.sqrt(new_var)\n",
    "    if sp > maxsp:\n",
    "        maxsp = sp\n",
    "        maxi = i\n",
    "w2 = [maxi, 1 - maxi]\n",
    "print w2\n",
    "print \"sharp_ ratio is {}\".format(maxsp)\n",
    "# minimize方法\n",
    "w3 = optimize(mean_ret, var)\n",
    "print w3"
   ]
  },
  {
   "cell_type": "code",
   "execution_count": null,
   "metadata": {
    "collapsed": false
   },
   "outputs": [],
   "source": [
    "# encoding: utf-8\n",
    "import pandas as pd\n",
    "import numpy as np\n",
    "import scipy.optimize as spo\n",
    "from math import sqrt\n",
    "\n",
    "\n",
    "def optimize(expect, var):\n",
    "    \"\"\"传入期望收益率向量和协方差矩阵\n",
    "       返回最优权重向量\n",
    "    \"\"\"\n",
    "    x0 = np.ones(len(expect)) / float(len(expect))\n",
    "    fun = lambda x: -np.dot(x, expect) / sqrt(np.dot(x, var).dot(x))\n",
    "    cons = ({'type': 'eq', 'fun': lambda x: np.sum(x) - 1})\n",
    "    bnds = [(0, 1)]*len(expect)\n",
    "    spo.minimize(fun, x0, constraints=cons, bounds=bnds, tol=1e-6)\n",
    "    return 0\n",
    "\n",
    "\n",
    "data = pd.read_excel(u\"..\\\\data\\\\index_ret.xlsx\", sheetname=0)\n",
    "data.set_index([\"date\"], inplace=True)\n",
    "port = pd.DataFrame()\n",
    "for cycle in range(1, 1):\n",
    "    # pandas dataframe初始化的问题\n",
    "    for i in range(cycle, len(data)):\n",
    "        # 计算最近一个时间窗口的期望收益率和协方差\n",
    "        expect = data.iloc[i - cycle:cycle - 1, :].mean() * 250\n",
    "        var = data.cov() * 250\n",
    "        opt_w = optimize(expect, var)"
   ]
  },
  {
   "cell_type": "code",
   "execution_count": 1,
   "metadata": {
    "collapsed": false
   },
   "outputs": [
    {
     "ename": "NameError",
     "evalue": "name 'cycle' is not defined",
     "traceback": [
      "\u001b[0;31m\u001b[0m",
      "\u001b[0;31mNameError\u001b[0mTraceback (most recent call last)",
      "\u001b[0;32m<ipython-input-1-29b43ab8628f>\u001b[0m in \u001b[0;36m<module>\u001b[0;34m()\u001b[0m\n\u001b[0;32m----> 1\u001b[0;31m \u001b[0mcycle\u001b[0m\u001b[1;33m\u001b[0m\u001b[0m\n\u001b[0m",
      "\u001b[0;31mNameError\u001b[0m: name 'cycle' is not defined"
     ],
     "output_type": "error"
    }
   ],
   "source": [
    "cycle"
   ]
  },
  {
   "cell_type": "code",
   "execution_count": 134,
   "metadata": {
    "collapsed": false
   },
   "outputs": [
    {
     "data": {
      "text/plain": [
       "0.016803170090220452"
      ]
     },
     "execution_count": 134,
     "metadata": {},
     "output_type": "execute_result"
    }
   ],
   "source": [
    "var"
   ]
  },
  {
   "cell_type": "code",
   "execution_count": 137,
   "metadata": {
    "collapsed": false
   },
   "outputs": [
    {
     "data": {
      "text/plain": [
       "0.015834349033659944"
      ]
     },
     "execution_count": 137,
     "metadata": {},
     "output_type": "execute_result"
    }
   ],
   "source": [
    "v2"
   ]
  }
 ],
 "metadata": {
  "kernelspec": {
   "display_name": "Python 2",
   "language": "python",
   "name": "python2"
  },
  "language_info": {
   "codemirror_mode": {
    "name": "ipython",
    "version": 2.0
   },
   "file_extension": ".py",
   "mimetype": "text/x-python",
   "name": "python",
   "nbconvert_exporter": "python",
   "pygments_lexer": "ipython2",
   "version": "2.7.13"
  }
 },
 "nbformat": 4,
 "nbformat_minor": 0
}