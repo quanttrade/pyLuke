{
 "cells": [
  {
   "cell_type": "markdown",
   "metadata": {},
   "source": [
    "# 1. 数据准备"
   ]
  },
  {
   "cell_type": "code",
   "execution_count": 1,
   "metadata": {
    "collapsed": false
   },
   "outputs": [],
   "source": [
    "import os\n",
    "import sys\n",
    "nb_dir = os.path.split(os.getcwd())[0]\n",
    "if nb_dir not in sys.path:\n",
    "    sys.path.append(nb_dir)\n",
    "from factorModel.factorValidator import *\n",
    "from windHelper import WindHelper\n",
    "from datetime import *"
   ]
  },
  {
   "cell_type": "markdown",
   "metadata": {},
   "source": [
    "## 1.2. 获取资产价格时间序列"
   ]
  },
  {
   "cell_type": "code",
   "execution_count": 2,
   "metadata": {
    "collapsed": false
   },
   "outputs": [
    {
     "name": "stdout",
     "output_type": "stream",
     "text": [
      "Welcome to use Wind Quant API for Python (WindPy)!\n",
      "You can use w.menu to help yourself to create commands(WSD,WSS,WST,WSI,WSQ,...)!\n",
      "\n",
      "COPYRIGHT (C) 2016 WIND HONGHUI INFORMATION & TECHKNOLEWDGE CO., LTD. ALL RIGHTS RESERVED.\n",
      "IN NO CIRCUMSTANCE SHALL WIND BE RESPONSIBLE FOR ANY DAMAGES OR LOSSES CAUSED BY USING WIND QUANT API FOR Python.\n"
     ]
    },
    {
     "data": {
      "text/html": [
       "<div>\n",
       "<table border=\"1\" class=\"dataframe\">\n",
       "  <thead>\n",
       "    <tr style=\"text-align: right;\">\n",
       "      <th></th>\n",
       "      <th>S0059749</th>\n",
       "    </tr>\n",
       "    <tr>\n",
       "      <th>trade_date</th>\n",
       "      <th></th>\n",
       "    </tr>\n",
       "  </thead>\n",
       "  <tbody>\n",
       "    <tr>\n",
       "      <th>2017-08-16</th>\n",
       "      <td>3.5988</td>\n",
       "    </tr>\n",
       "    <tr>\n",
       "      <th>2017-08-17</th>\n",
       "      <td>3.5926</td>\n",
       "    </tr>\n",
       "    <tr>\n",
       "      <th>2017-08-18</th>\n",
       "      <td>3.5951</td>\n",
       "    </tr>\n",
       "    <tr>\n",
       "      <th>2017-08-21</th>\n",
       "      <td>3.6181</td>\n",
       "    </tr>\n",
       "    <tr>\n",
       "      <th>2017-08-22</th>\n",
       "      <td>3.6201</td>\n",
       "    </tr>\n",
       "  </tbody>\n",
       "</table>\n",
       "</div>"
      ],
      "text/plain": [
       "            S0059749\n",
       "trade_date          \n",
       "2017-08-16    3.5988\n",
       "2017-08-17    3.5926\n",
       "2017-08-18    3.5951\n",
       "2017-08-21    3.6181\n",
       "2017-08-22    3.6201"
      ]
     },
     "execution_count": 2,
     "metadata": {},
     "output_type": "execute_result"
    }
   ],
   "source": [
    "beginDate = datetime(2006, 1, 1)\n",
    "endDate = datetime(2017, 8, 22)\n",
    "para = \"close\"\n",
    "df = WindHelper.getEDBTimeSeriesDataFrame([\"S0059749\"], beginDate=beginDate, endDate=endDate)\n",
    "df = df.dropna()\n",
    "df.tail()"
   ]
  },
  {
   "cell_type": "markdown",
   "metadata": {},
   "source": [
    "## 1.2. 获取因子的时间序列"
   ]
  },
  {
   "cell_type": "code",
   "execution_count": 3,
   "metadata": {
    "collapsed": false
   },
   "outputs": [
    {
     "name": "stdout",
     "output_type": "stream",
     "text": [
      "            m0000612_close\n",
      "trade_date                \n",
      "2006-01-21        1.900000\n",
      "2006-02-18        0.900000\n",
      "2006-03-21        0.800000\n",
      "2006-04-20        1.200000\n",
      "2006-05-21        1.400000\n",
      "2006-06-20        1.500000\n",
      "2006-07-21        1.000000\n",
      "2006-08-21        1.300000\n",
      "2006-09-20        1.500000\n",
      "2006-10-21        1.400000\n",
      "2006-11-20        1.900000\n",
      "2006-12-21        2.800000\n",
      "2007-01-21        2.200000\n",
      "2007-02-18        2.700000\n",
      "2007-03-21        3.300000\n",
      "2007-04-20        3.000000\n",
      "2007-05-21        3.400000\n",
      "2007-06-20        4.400000\n",
      "2007-07-21        5.600000\n",
      "2007-08-21        6.500000\n",
      "2007-09-20        6.200000\n",
      "2007-10-21        6.500000\n",
      "2007-11-20        6.900000\n",
      "2007-12-21        6.500000\n",
      "2008-01-21        7.100000\n",
      "2008-02-19        8.700000\n",
      "2008-03-21        8.300000\n",
      "2008-04-20        8.500000\n",
      "2008-05-21        7.700000\n",
      "2008-06-20        7.100000\n",
      "...                    ...\n",
      "2015-02-18        1.431100\n",
      "2015-03-21        1.375800\n",
      "2015-04-20        1.509100\n",
      "2015-05-21        1.230800\n",
      "2015-06-20        1.390900\n",
      "2015-07-21        1.647300\n",
      "2015-08-21        1.955400\n",
      "2015-09-20        1.595600\n",
      "2015-10-21        1.267400\n",
      "2015-11-20        1.485600\n",
      "2015-12-21        1.600000\n",
      "2016-01-21        1.800000\n",
      "2016-02-19        2.300000\n",
      "2016-03-21        2.301391\n",
      "2016-04-20        2.327865\n",
      "2016-05-21        2.038999\n",
      "2016-06-20        1.879503\n",
      "2016-07-21        1.765113\n",
      "2016-08-21        1.339773\n",
      "2016-09-20        1.920226\n",
      "2016-10-21        2.095947\n",
      "2016-11-20        2.252258\n",
      "2016-12-21        2.076545\n",
      "2017-01-21        2.549055\n",
      "2017-02-18        0.800000\n",
      "2017-03-21        0.900000\n",
      "2017-04-20        1.200000\n",
      "2017-05-21        1.500000\n",
      "2017-06-20        1.500000\n",
      "2017-07-21        1.400000\n",
      "\n",
      "[139 rows x 1 columns]\n"
     ]
    }
   ],
   "source": [
    "factor_df = WindHelper.getMultiTimeSeriesDataFrame([\"M0000612\"], beginDate=beginDate, endDate=endDate,\n",
    "                                                para=para)\n",
    "factor_df = factor_df.dropna()\n",
    "factor_df.index = factor_df.index - timedelta(days=10)\n",
    "print factor_df"
   ]
  },
  {
   "cell_type": "markdown",
   "metadata": {},
   "source": [
    "# 2.因子校验器"
   ]
  },
  {
   "cell_type": "markdown",
   "metadata": {},
   "source": [
    "设置因子事件的配置文件"
   ]
  },
  {
   "cell_type": "code",
   "execution_count": 4,
   "metadata": {
    "collapsed": true
   },
   "outputs": [],
   "source": [
    "config = {\"type\":NEGATIVE, \"his_count\": 12,\"std_count\":1, \"period\": 1}"
   ]
  },
  {
   "cell_type": "code",
   "execution_count": 5,
   "metadata": {
    "collapsed": false
   },
   "outputs": [],
   "source": [
    "# adjust_factor_series = get_adj_factor_series(df[\"060e.cs_close\"], factor_df[\"m0000612_close\"], lag=2)\n",
    "# len(df[\"060e.cs_close\"])\n",
    "# report = sharp_ratio_test(df[\"060e.cs_close\"], factor_df[\"m0000612_close\"], \"e001\", config)"
   ]
  },
  {
   "cell_type": "code",
   "execution_count": 6,
   "metadata": {
    "collapsed": false
   },
   "outputs": [],
   "source": [
    "# %matplotlib inline\n",
    "# report[\"ts\"].loc[:,[\"value\",\"base\"]].plot()"
   ]
  },
  {
   "cell_type": "code",
   "execution_count": 7,
   "metadata": {
    "collapsed": false
   },
   "outputs": [
    {
     "data": {
      "text/plain": [
       "2006-02-20    1.9\n",
       "2006-03-22    0.9\n",
       "2006-04-21    0.8\n",
       "2006-05-22    1.2\n",
       "2006-06-21    1.4\n",
       "Name: m0000612_close, dtype: float64"
      ]
     },
     "execution_count": 7,
     "metadata": {},
     "output_type": "execute_result"
    }
   ],
   "source": [
    "get_adj_factor_series(df, factor_df[\"m0000612_close\"], lag=2).head()"
   ]
  },
  {
   "cell_type": "code",
   "execution_count": 8,
   "metadata": {
    "collapsed": false
   },
   "outputs": [],
   "source": [
    "report2 = one_direction_test(df[\"S0059749\"], factor_df[\"m0000612_close\"], \"e001\", config,asset_price=False)"
   ]
  },
  {
   "cell_type": "code",
   "execution_count": 9,
   "metadata": {
    "collapsed": false
   },
   "outputs": [
    {
     "data": {
      "text/plain": [
       "{'ir': 0.24212096639367653, 'ts':             m0000612_close     bp\n",
       " 2007-01-22        0.790055   8.23\n",
       " 2007-02-25        0.137117  28.50\n",
       " 2007-03-22        0.423785  19.50\n",
       " 2007-04-23        0.714535  46.00\n",
       " 2007-05-22        0.226578  42.00\n",
       " 2007-06-21        0.388743   0.70\n",
       " 2007-07-23        0.960817 -25.00\n",
       " 2007-08-22        1.524548  26.80\n",
       " 2007-09-21        1.696667  -1.50\n",
       " 2007-10-22        0.892807   6.50\n",
       " 2007-11-21        0.734987  -9.33\n",
       " 2007-12-24        0.679200  -8.38\n",
       " 2008-02-20        0.238085  -9.74\n",
       " 2008-03-24        1.251393  -6.83\n",
       " 2008-04-21        0.456213  15.44\n",
       " 2008-05-22        0.369149  30.85\n",
       " 2009-12-22        0.260036  -2.07\n",
       " 2010-01-22        1.375907 -14.11\n",
       " 2010-02-20        0.864270  -6.73\n",
       " 2010-03-22        1.426627   1.38\n",
       " 2010-04-21        0.679416 -20.77\n",
       " 2010-05-24        0.619894  16.48\n",
       " 2010-06-21        0.480873 -17.64\n",
       " 2010-08-23        0.112133  10.45\n",
       " 2010-09-21        0.087437  29.67\n",
       " 2010-10-22        0.037370  28.03\n",
       " 2010-11-22        0.653304 -11.57\n",
       " 2010-12-22        1.003643  19.14\n",
       " 2011-01-24        0.269447   7.84\n",
       " 2011-02-21        0.371728 -17.15\n",
       " 2011-03-22        0.202455  -0.75\n",
       " 2011-04-21        0.400967  -5.12\n",
       " 2011-05-23        0.169377   6.03\n",
       " 2011-06-21        0.150922  16.68\n",
       " 2011-07-22        0.693916 -13.46\n",
       " 2011-08-22        0.527607  15.83\n",
       " 2011-09-21        0.087246 -33.75\n",
       " 2013-03-22        0.096153  -9.49\n",
       " 2013-07-22        0.042155  29.01\n",
       " 2013-10-22        0.184196  57.04\n",
       " 2013-11-21        0.219786  -9.92\n",
       " 2015-09-21        0.215574 -26.88\n",
       " 2016-02-22        0.064815  -1.22\n",
       " 2016-03-22        0.398894   9.04\n",
       " 2016-04-21        0.271336   3.42\n",
       " 2016-05-23        0.187996  -1.45\n",
       " 2017-02-20        0.159092   2.56, 'worst_perform': -33.749999999999993}"
      ]
     },
     "execution_count": 9,
     "metadata": {},
     "output_type": "execute_result"
    }
   ],
   "source": [
    "# %matplotlib inline\n",
    "report2"
   ]
  },
  {
   "cell_type": "code",
   "execution_count": 12,
   "metadata": {
    "collapsed": false
   },
   "outputs": [
    {
     "data": {
      "text/plain": [
       "0.6382978723404256"
      ]
     },
     "execution_count": 12,
     "metadata": {},
     "output_type": "execute_result"
    }
   ],
   "source": [
    "series = report2[\"ts\"][\"bp\"]\n",
    "len(series[series > -5])*1.0/len(series)"
   ]
  },
  {
   "cell_type": "markdown",
   "metadata": {},
   "source": [
    "拥有63%的概率机会成本在5BP以内"
   ]
  }
 ],
 "metadata": {
  "kernelspec": {
   "display_name": "Python 2",
   "language": "python",
   "name": "python2"
  },
  "language_info": {
   "codemirror_mode": {
    "name": "ipython",
    "version": 2.0
   },
   "file_extension": ".py",
   "mimetype": "text/x-python",
   "name": "python",
   "nbconvert_exporter": "python",
   "pygments_lexer": "ipython2",
   "version": "2.7.13"
  }
 },
 "nbformat": 4,
 "nbformat_minor": 0
}