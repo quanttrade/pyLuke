{
 "cells": [
  {
   "cell_type": "markdown",
   "metadata": {},
   "source": [
    "# 1. 数据准备"
   ]
  },
  {
   "cell_type": "code",
   "execution_count": 18,
   "metadata": {
    "collapsed": false
   },
   "outputs": [],
   "source": [
    "import os\n",
    "import sys\n",
    "nb_dir = os.path.split(os.getcwd())[0]\n",
    "if nb_dir not in sys.path:\n",
    "    sys.path.append(nb_dir)\n",
    "from factorModel.factorValidator import *\n",
    "from windHelper import WindHelper\n",
    "from datetime import *"
   ]
  },
  {
   "cell_type": "markdown",
   "metadata": {},
   "source": [
    "## 1.2. 获取资产价格时间序列"
   ]
  },
  {
   "cell_type": "code",
   "execution_count": 14,
   "metadata": {
    "collapsed": false
   },
   "outputs": [
    {
     "data": {
      "text/html": [
       "<div>\n",
       "<table border=\"1\" class=\"dataframe\">\n",
       "  <thead>\n",
       "    <tr style=\"text-align: right;\">\n",
       "      <th></th>\n",
       "      <th>s0059749_close</th>\n",
       "    </tr>\n",
       "    <tr>\n",
       "      <th>trade_date</th>\n",
       "      <th></th>\n",
       "    </tr>\n",
       "  </thead>\n",
       "  <tbody>\n",
       "    <tr>\n",
       "      <th>2017-08-16</th>\n",
       "      <td>3.5988</td>\n",
       "    </tr>\n",
       "    <tr>\n",
       "      <th>2017-08-17</th>\n",
       "      <td>3.5926</td>\n",
       "    </tr>\n",
       "    <tr>\n",
       "      <th>2017-08-18</th>\n",
       "      <td>3.5951</td>\n",
       "    </tr>\n",
       "    <tr>\n",
       "      <th>2017-08-21</th>\n",
       "      <td>3.6181</td>\n",
       "    </tr>\n",
       "    <tr>\n",
       "      <th>2017-08-22</th>\n",
       "      <td>3.6201</td>\n",
       "    </tr>\n",
       "  </tbody>\n",
       "</table>\n",
       "</div>"
      ],
      "text/plain": [
       "            s0059749_close\n",
       "trade_date                \n",
       "2017-08-16          3.5988\n",
       "2017-08-17          3.5926\n",
       "2017-08-18          3.5951\n",
       "2017-08-21          3.6181\n",
       "2017-08-22          3.6201"
      ]
     },
     "execution_count": 14,
     "metadata": {},
     "output_type": "execute_result"
    }
   ],
   "source": [
    "beginDate = datetime(2006, 1, 1)\n",
    "endDate = datetime(2017, 8, 22)\n",
    "para = \"close\"\n",
    "df = WindHelper.getMultiTimeSeriesDataFrame([\"S0059749\"], beginDate=beginDate, endDate=endDate, para=para)\n",
    "df = df.dropna()\n",
    "df.tail()"
   ]
  },
  {
   "cell_type": "markdown",
   "metadata": {},
   "source": [
    "## 1.2. 获取因子的时间序列"
   ]
  },
  {
   "cell_type": "code",
   "execution_count": 20,
   "metadata": {
    "collapsed": false
   },
   "outputs": [
    {
     "data": {
      "text/html": [
       "<div id=\"chart_idWHcNSKYD\"</div>\n",
       "    <script type=\"text/javascript\">new Highcharts.StockChart({\"title\":{\"text\":\"\\u6d4b\\u8bd5\"},\"series\":[{\"data\":[[1138665600000,52.1],[1141084800000,52.1],[1143763200000,55.3],[1146355200000,58.1],[1149033600000,54.8],[1151625600000,54.1],[1154304000000,52.4],[1156982400000,53.1],[1159574400000,57.0],[1162252800000,54.7],[1164844800000,55.3],[1167523200000,54.8],[1170201600000,55.1],[1172620800000,53.1],[1175299200000,56.1],[1177891200000,58.6],[1180569600000,55.7],[1183161600000,54.5],[1185840000000,53.3],[1188518400000,54.0],[1191110400000,56.1],[1193788800000,53.2],[1196380800000,55.4],[1199059200000,55.3],[1201737600000,53.0],[1204243200000,53.4],[1206921600000,58.4],[1209513600000,59.2],[1212192000000,53.3],[1214784000000,52.0],[1217462400000,48.4],[1220140800000,48.4],[1222732800000,51.2],[1225411200000,44.6],[1228003200000,38.8],[1230681600000,41.2],[1233360000000,45.3],[1235779200000,49.0],[1238457600000,52.4],[1241049600000,53.5],[1243728000000,53.1],[1246320000000,53.2],[1248998400000,53.3],[1251676800000,54.0],[1254268800000,54.3],[1256947200000,55.2],[1259539200000,55.2],[1262217600000,56.6],[1264896000000,55.8],[1267315200000,52.0],[1269993600000,55.1],[1272585600000,55.7],[1275264000000,53.9],[1277856000000,52.1],[1280534400000,51.2],[1283212800000,51.7],[1285804800000,53.8],[1288483200000,54.7],[1291075200000,55.2],[1293753600000,53.9],[1296432000000,52.9],[1298851200000,52.2],[1301529600000,53.4],[1304121600000,52.9],[1306800000000,52.0],[1309392000000,50.9],[1312070400000,50.7],[1314748800000,50.9],[1317340800000,51.2],[1320019200000,50.4],[1322611200000,49.0],[1325289600000,50.3],[1327968000000,50.5],[1330473600000,51.0],[1333152000000,53.1],[1335744000000,53.3],[1338422400000,50.4],[1341014400000,50.2],[1343692800000,50.1],[1346371200000,49.2],[1348963200000,49.8],[1351641600000,50.2],[1354233600000,50.6],[1356912000000,50.6],[1359590400000,50.4],[1362009600000,50.1],[1364688000000,50.9],[1367280000000,50.6],[1369958400000,50.8],[1372550400000,50.1],[1375228800000,50.3],[1377907200000,51.0],[1380499200000,51.1],[1383177600000,51.4],[1385769600000,51.4],[1388448000000,51.0],[1391126400000,50.5],[1393545600000,50.2],[1396224000000,50.3],[1398816000000,50.4],[1401494400000,50.8],[1404086400000,51.0],[1406764800000,51.7],[1409443200000,51.1],[1412035200000,51.1],[1414713600000,50.8],[1417305600000,50.3],[1419984000000,50.1],[1422662400000,49.8],[1425081600000,49.9],[1427760000000,50.1],[1430352000000,50.1],[1433030400000,50.2],[1435622400000,50.2],[1438300800000,50.0],[1440979200000,49.7],[1443571200000,49.8],[1446249600000,49.8],[1448841600000,49.6],[1451520000000,49.7],[1454198400000,49.4],[1456704000000,49.0],[1459382400000,50.2],[1461974400000,50.1],[1464652800000,50.1],[1467244800000,50.0],[1469923200000,49.9],[1472601600000,50.4],[1475193600000,50.4],[1477872000000,51.2],[1480464000000,51.7],[1483142400000,51.4],[1485820800000,51.3],[1488240000000,51.6],[1490918400000,51.8],[1493510400000,51.2],[1496188800000,51.2],[1498780800000,51.7],[1501459200000,51.4],[1504137600000,51.7]],\"name\":\"m0017126_close (right)\",\"yAxis\":1},{\"data\":[[1138665600000,null],[1141084800000,2.9266],[1143763200000,2.94],[1146355200000,3.0],[1149033600000,3.02],[1151625600000,3.165],[1154304000000,3.26],[1156982400000,3.238],[1159574400000,2.999],[1162252800000,2.9512],[1164844800000,2.9781],[1167523200000,3.0269],[1170201600000,3.0671],[1172620800000,3.1466],[1175299200000,null],[1177891200000,3.5916],[1180569600000,4.06],[1183161600000,null],[1185840000000,4.3401],[1188518400000,4.2743],[1191110400000,4.3877],[1193788800000,4.4937],[1196380800000,4.5086],[1199059200000,null],[1201737600000,4.1937],[1204243200000,4.1283],[1206921600000,4.046],[1209513600000,4.0725],[1212192000000,null],[1214784000000,4.5285],[1217462400000,4.4401],[1220140800000,null],[1222732800000,null],[1225411200000,3.0751],[1228003200000,null],[1230681600000,2.7521],[1233360000000,null],[1235779200000,null],[1238457600000,3.1612],[1241049600000,3.1072],[1243728000000,3.0409],[1246320000000,3.2403],[1248998400000,3.503],[1251676800000,3.4805],[1254268800000,3.5132],[1256947200000,null],[1259539200000,3.5569],[1262217600000,3.6422],[1264896000000,null],[1267315200000,null],[1269993600000,3.4818],[1272585600000,3.3565],[1275264000000,3.243],[1277856000000,3.279],[1280534400000,null],[1283212800000,3.2301],[1285804800000,3.3183],[1288483200000,null],[1291075200000,3.971],[1293753600000,3.8799],[1296432000000,4.0187],[1298851200000,3.9314],[1301529600000,3.912],[1304121600000,null],[1306800000000,3.8311],[1309392000000,3.8857],[1312070400000,null],[1314748800000,4.105],[1317340800000,3.8605],[1320019200000,3.7607],[1322611200000,3.6091],[1325289600000,3.4211],[1327968000000,3.4064],[1330473600000,3.534],[1333152000000,3.5004],[1335744000000,null],[1338422400000,3.3443],[1341014400000,null],[1343692800000,3.2915],[1346371200000,3.3928],[1348963200000,null],[1351641600000,3.5739],[1354233600000,3.5332],[1356912000000,3.5738],[1359590400000,3.6054],[1362009600000,3.5957],[1364688000000,null],[1367280000000,null],[1369958400000,3.4399],[1372550400000,null],[1375228800000,3.7214],[1377907200000,null],[1380499200000,3.9954],[1383177600000,4.1806],[1385769600000,null],[1388448000000,4.5518],[1391126400000,null],[1393545600000,4.4276],[1396224000000,4.5004],[1398816000000,4.3002],[1401494400000,null],[1404086400000,4.0612],[1406764800000,4.2655],[1409443200000,null],[1412035200000,3.9824],[1414713600000,3.7559],[1417305600000,null],[1419984000000,3.6219],[1422662400000,null],[1425081600000,3.3602],[1427760000000,3.6483],[1430352000000,3.3503],[1433030400000,null],[1435622400000,3.5976],[1438300800000,3.4752],[1440979200000,3.3252],[1443571200000,3.2362],[1446249600000,null],[1448841600000,3.0404],[1451520000000,2.8212],[1454198400000,null],[1456704000000,2.8502],[1459382400000,2.8419],[1461974400000,null],[1464652800000,2.9851],[1467244800000,2.8411],[1469923200000,null],[1472601600000,2.7425],[1475193600000,2.7258],[1477872000000,2.7425],[1480464000000,2.9502],[1483142400000,3.0115],[1485820800000,null],[1488240000000,3.2921],[1490918400000,3.2828],[1493510400000,null],[1496188800000,3.6102],[1498780800000,3.5683],[1501459200000,3.626],[1504137600000,null]],\"name\":\"s0059749_close\",\"yAxis\":0}],\"yAxis\":[{},{\"opposite\":true}],\"chart\":{\"renderTo\":\"chart_idWHcNSKYD\"},\"xAxis\":{\"type\":\"datetime\",\"title\":{\"text\":\"trade_date\"}},\"legend\":{\"enabled\":true}});</script>"
      ],
      "text/plain": [
       "<IPython.core.display.HTML object>"
      ]
     },
     "metadata": {},
     "output_type": "display_data"
    }
   ],
   "source": [
    "factor_df = WindHelper.getMultiTimeSeriesDataFrame([\"M0017126\"], beginDate=beginDate, endDate=endDate,\n",
    "                                                para=para)\n",
    "factor_df = factor_df.dropna()\n",
    "factor_df.index = factor_df.index - timedelta(days=0)\n",
    "%matplotlib inline\n",
    "import pandas_highcharts\n",
    "from pandas_highcharts.display import display_charts\n",
    "import matplotlib.pyplot as plt\n",
    "display_charts(factor_df.join(df, how=\"left\"), chart_type=\"stock\", secondary_y=factor_df.columns[0],title=\"测试\")"
   ]
  },
  {
   "cell_type": "markdown",
   "metadata": {},
   "source": [
    "# 2.因子校验"
   ]
  },
  {
   "cell_type": "markdown",
   "metadata": {},
   "source": [
    "## 2.1. e001事件：短期高点"
   ]
  },
  {
   "cell_type": "markdown",
   "metadata": {},
   "source": [
    "设置因子事件的配置文件"
   ]
  },
  {
   "cell_type": "code",
   "execution_count": 64,
   "metadata": {
    "collapsed": false
   },
   "outputs": [],
   "source": [
    "config = {\"relation\":NEGATIVE,\"type\":UP,\"his_count\": 12,\"std_count\":1.1, \"period\": 1}"
   ]
  },
  {
   "cell_type": "code",
   "execution_count": 65,
   "metadata": {
    "collapsed": false
   },
   "outputs": [],
   "source": [
    "# adjust_factor_series = get_adj_factor_series(df, factor_df, lag=2)\n",
    "# len(df[\"060e.cs_close\"])\n",
    "report = perform_after_event(df[df.columns[0]], factor_df[factor_df.columns[0]], \"e001\", config, lag=1, asset_price=False)"
   ]
  },
  {
   "cell_type": "code",
   "execution_count": 66,
   "metadata": {
    "collapsed": false
   },
   "outputs": [
    {
     "name": "stdout",
     "output_type": "stream",
     "text": [
      "19\n",
      "-20.38\n",
      "8.48894736842\n",
      "0.631578947368\n"
     ]
    },
    {
     "data": {
      "text/plain": [
       "<matplotlib.axes._subplots.AxesSubplot at 0x1ba2e610>"
      ]
     },
     "execution_count": 66,
     "metadata": {},
     "output_type": "execute_result"
    },
    {
     "data": {
      "image/png": "[encoded data removed]",
      "text/plain": [
       "<matplotlib.figure.Figure at 0x1bd786f0>"
      ]
     },
     "metadata": {},
     "output_type": "display_data"
    }
   ],
   "source": [
    "%matplotlib inline\n",
    "print len(report[\"ts\"])\n",
    "print report[\"ts\"][\"bp\"].min()\n",
    "print report[\"ts\"][\"bp\"].mean()\n",
    "print (report[\"ts\"][\"bp\"] > 0).sum()*1.0/len(report[\"ts\"])\n",
    "report[\"ts\"][\"bp\"]\n",
    "report[\"ts\"].plot(x=report[\"ts\"].columns[0], y=report[\"ts\"].columns[1], kind='scatter')"
   ]
  },
  {
   "cell_type": "code",
   "execution_count": 33,
   "metadata": {
    "collapsed": false
   },
   "outputs": [
    {
     "data": {
      "text/html": [
       "<div>\n",
       "<table border=\"1\" class=\"dataframe\">\n",
       "  <thead>\n",
       "    <tr style=\"text-align: right;\">\n",
       "      <th></th>\n",
       "      <th>m0017126_close</th>\n",
       "    </tr>\n",
       "    <tr>\n",
       "      <th>trade_date</th>\n",
       "      <th></th>\n",
       "    </tr>\n",
       "  </thead>\n",
       "  <tbody>\n",
       "    <tr>\n",
       "      <th>2017-04-30</th>\n",
       "      <td>51.2</td>\n",
       "    </tr>\n",
       "    <tr>\n",
       "      <th>2017-05-31</th>\n",
       "      <td>51.2</td>\n",
       "    </tr>\n",
       "    <tr>\n",
       "      <th>2017-06-30</th>\n",
       "      <td>51.7</td>\n",
       "    </tr>\n",
       "    <tr>\n",
       "      <th>2017-07-31</th>\n",
       "      <td>51.4</td>\n",
       "    </tr>\n",
       "    <tr>\n",
       "      <th>2017-08-31</th>\n",
       "      <td>51.7</td>\n",
       "    </tr>\n",
       "  </tbody>\n",
       "</table>\n",
       "</div>"
      ],
      "text/plain": [
       "            m0017126_close\n",
       "trade_date                \n",
       "2017-04-30            51.2\n",
       "2017-05-31            51.2\n",
       "2017-06-30            51.7\n",
       "2017-07-31            51.4\n",
       "2017-08-31            51.7"
      ]
     },
     "execution_count": 33,
     "metadata": {},
     "output_type": "execute_result"
    }
   ],
   "source": [
    "factor_df.tail()"
   ]
  },
  {
   "cell_type": "code",
   "execution_count": 40,
   "metadata": {
    "collapsed": false
   },
   "outputs": [
    {
     "data": {
      "text/plain": [
       "-0.064320885822273577"
      ]
     },
     "execution_count": 40,
     "metadata": {},
     "output_type": "execute_result"
    }
   ],
   "source": [
    "e001(adjust_factor_series=factor_df[factor_df.columns[0]],cur_date=datetime(2017,9,9), config=config)"
   ]
  },
  {
   "cell_type": "markdown",
   "metadata": {},
   "source": [
    "# 2.2.  e003x2事件(下跌后反转)"
   ]
  },
  {
   "cell_type": "code",
   "execution_count": 14,
   "metadata": {
    "collapsed": false
   },
   "outputs": [],
   "source": [
    "config = {\n",
    "    \"relation\":NEGATIVE,\n",
    "    \"type\":UP,\n",
    "    \"his_count\": 3,\n",
    "    \"threshold\":0, \n",
    "    \"threshold2\":0,\n",
    "    \"period\": 1\n",
    "}\n",
    "report2 = perform_after_event(df[df.columns[0]], factor_df[factor_df.columns[0]], \"e003x2\", config, lag=1, asset_price=False)"
   ]
  },
  {
   "cell_type": "code",
   "execution_count": 15,
   "metadata": {
    "collapsed": false
   },
   "outputs": [
    {
     "name": "stdout",
     "output_type": "stream",
     "text": [
      "8\n",
      "-23.0\n",
      "-1.6675\n",
      "0.5\n"
     ]
    },
    {
     "data": {
      "text/plain": [
       "2006-09-01   -23.00\n",
       "2007-09-03    13.14\n",
       "2010-09-01     9.84\n",
       "2011-04-01    -3.54\n",
       "2011-09-01   -21.03\n",
       "2012-10-09    10.63\n",
       "2014-04-01   -20.52\n",
       "2015-03-02    21.14\n",
       "Name: bp, dtype: float64"
      ]
     },
     "execution_count": 15,
     "metadata": {},
     "output_type": "execute_result"
    }
   ],
   "source": [
    "%matplotlib inline\n",
    "print len(report2[\"ts\"])\n",
    "print report2[\"ts\"][\"bp\"].min()\n",
    "print report2[\"ts\"][\"bp\"].mean()\n",
    "print (report2[\"ts\"][\"bp\"] > 0).sum()*1.0/len(report2[\"ts\"])\n",
    "report2[\"ts\"][\"bp\"]"
   ]
  },
  {
   "cell_type": "markdown",
   "metadata": {
    "collapsed": false
   },
   "source": [
    "## 2.3. e003x1事件(上涨后反转)"
   ]
  },
  {
   "cell_type": "code",
   "execution_count": 16,
   "metadata": {
    "collapsed": true
   },
   "outputs": [],
   "source": [
    "config = {\n",
    "    \"relation\":NEGATIVE,\n",
    "    \"type\":DOWN,\n",
    "    \"his_count\": 3,\n",
    "    \"threshold\":0, \n",
    "    \"threshold2\":0,\n",
    "    \"period\": 1\n",
    "}\n",
    "report2 = perform_after_event(df[df.columns[0]], factor_df[factor_df.columns[0]], \"e003x1\", config, lag=1, asset_price=False)"
   ]
  },
  {
   "cell_type": "code",
   "execution_count": 19,
   "metadata": {
    "collapsed": false
   },
   "outputs": [
    {
     "name": "stdout",
     "output_type": "stream",
     "text": [
      "5\n",
      "37.21\n",
      "8.428\n",
      "0.6\n"
     ]
    },
    {
     "data": {
      "text/plain": [
       "2008-06-03    37.21\n",
       "2009-06-01    16.85\n",
       "2011-01-04    15.80\n",
       "2012-06-01    -2.12\n",
       "2014-09-02   -25.60\n",
       "Name: bp, dtype: float64"
      ]
     },
     "execution_count": 19,
     "metadata": {},
     "output_type": "execute_result"
    }
   ],
   "source": [
    "%matplotlib inline\n",
    "print len(report2[\"ts\"])\n",
    "print report2[\"ts\"][\"bp\"].max()\n",
    "print report2[\"ts\"][\"bp\"].mean()\n",
    "print (report2[\"ts\"][\"bp\"] > 0).sum()*1.0/len(report2[\"ts\"])\n",
    "report2[\"ts\"][\"bp\"]"
   ]
  },
  {
   "cell_type": "markdown",
   "metadata": {},
   "source": [
    "e003系列相对于PMI来说，基本无效"
   ]
  },
  {
   "cell_type": "markdown",
   "metadata": {},
   "source": [
    "## e002x1事件(连续上涨)"
   ]
  },
  {
   "cell_type": "code",
   "execution_count": 28,
   "metadata": {
    "collapsed": true
   },
   "outputs": [],
   "source": [
    "config = {\n",
    "    \"relation\":NEGATIVE,\n",
    "    \"type\":UP,\n",
    "    \"his_count\": 5,\n",
    "    \"threshold\":0, \n",
    "    \"period\": 1\n",
    "}\n",
    "report2 = perform_after_event(df[df.columns[0]], factor_df[factor_df.columns[0]], \"e002x1\", config, lag=1, asset_price=False)"
   ]
  },
  {
   "cell_type": "code",
   "execution_count": 29,
   "metadata": {
    "collapsed": false
   },
   "outputs": [
    {
     "name": "stdout",
     "output_type": "stream",
     "text": [
      "4\n",
      "-20.38\n",
      "-9.5375\n",
      "0.0\n"
     ]
    },
    {
     "data": {
      "text/plain": [
       "2009-05-04    -4.77\n",
       "2009-11-03   -12.21\n",
       "2012-05-03   -20.38\n",
       "2014-08-01    -0.79\n",
       "Name: bp, dtype: float64"
      ]
     },
     "execution_count": 29,
     "metadata": {},
     "output_type": "execute_result"
    }
   ],
   "source": [
    "%matplotlib inline\n",
    "print len(report2[\"ts\"])\n",
    "print report2[\"ts\"][\"bp\"].min()\n",
    "print report2[\"ts\"][\"bp\"].mean()\n",
    "print (report2[\"ts\"][\"bp\"] > 0).sum()*1.0/len(report2[\"ts\"])\n",
    "report2[\"ts\"][\"bp\"]"
   ]
  }
 ],
 "metadata": {
  "kernelspec": {
   "display_name": "Python 2",
   "language": "python",
   "name": "python2"
  },
  "language_info": {
   "codemirror_mode": {
    "name": "ipython",
    "version": 2
   },
   "file_extension": ".py",
   "mimetype": "text/x-python",
   "name": "python",
   "nbconvert_exporter": "python",
   "pygments_lexer": "ipython2",
   "version": "2.7.13"
  }
 },
 "nbformat": 4,
 "nbformat_minor": 0
}
