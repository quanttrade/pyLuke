{
 "cells": [
  {
   "cell_type": "markdown",
   "metadata": {},
   "source": [
    "# 1. 数据准备"
   ]
  },
  {
   "cell_type": "code",
   "execution_count": 1,
   "metadata": {
    "collapsed": false
   },
   "outputs": [],
   "source": [
    "import os\n",
    "import sys\n",
    "nb_dir = os.path.split(os.getcwd())[0]\n",
    "if nb_dir not in sys.path:\n",
    "    sys.path.append(nb_dir)\n",
    "from factorModel.factorValidator import *\n",
    "from windHelper import WindHelper\n",
    "from datetime import *"
   ]
  },
  {
   "cell_type": "markdown",
   "metadata": {},
   "source": [
    "## 1.2. 获取资产价格时间序列"
   ]
  },
  {
   "cell_type": "code",
   "execution_count": 2,
   "metadata": {
    "collapsed": false
   },
   "outputs": [
    {
     "name": "stdout",
     "output_type": "stream",
     "text": [
      "Welcome to use Wind Quant API for Python (WindPy)!\n",
      "You can use w.menu to help yourself to create commands(WSD,WSS,WST,WSI,WSQ,...)!\n",
      "\n",
      "COPYRIGHT (C) 2017 WIND INFORMATION CO., LTD. ALL RIGHTS RESERVED.\n",
      "IN NO CIRCUMSTANCE SHALL WIND BE RESPONSIBLE FOR ANY DAMAGES OR LOSSES CAUSED BY USING WIND QUANT API FOR Python.\n"
     ]
    },
    {
     "data": {
      "text/html": [
       "<div>\n",
       "<table border=\"1\" class=\"dataframe\">\n",
       "  <thead>\n",
       "    <tr style=\"text-align: right;\">\n",
       "      <th></th>\n",
       "      <th>S0059749</th>\n",
       "    </tr>\n",
       "    <tr>\n",
       "      <th>trade_date</th>\n",
       "      <th></th>\n",
       "    </tr>\n",
       "  </thead>\n",
       "  <tbody>\n",
       "    <tr>\n",
       "      <th>2017-09-04</th>\n",
       "      <td>3.6454</td>\n",
       "    </tr>\n",
       "    <tr>\n",
       "      <th>2017-09-05</th>\n",
       "      <td>3.6641</td>\n",
       "    </tr>\n",
       "    <tr>\n",
       "      <th>2017-09-06</th>\n",
       "      <td>3.6554</td>\n",
       "    </tr>\n",
       "    <tr>\n",
       "      <th>2017-09-07</th>\n",
       "      <td>3.6155</td>\n",
       "    </tr>\n",
       "    <tr>\n",
       "      <th>2017-09-08</th>\n",
       "      <td>3.6005</td>\n",
       "    </tr>\n",
       "  </tbody>\n",
       "</table>\n",
       "</div>"
      ],
      "text/plain": [
       "            S0059749\n",
       "trade_date          \n",
       "2017-09-04    3.6454\n",
       "2017-09-05    3.6641\n",
       "2017-09-06    3.6554\n",
       "2017-09-07    3.6155\n",
       "2017-09-08    3.6005"
      ]
     },
     "execution_count": 2,
     "metadata": {},
     "output_type": "execute_result"
    }
   ],
   "source": [
    "beginDate = datetime(2006, 1, 1)\n",
    "endDate = datetime(2017, 9, 9)\n",
    "para = \"close\"\n",
    "df = WindHelper.getEDBTimeSeriesDataFrame([\"S0059749\"], beginDate=beginDate, endDate=endDate)\n",
    "df = df.dropna()\n",
    "df.tail()"
   ]
  },
  {
   "cell_type": "markdown",
   "metadata": {},
   "source": [
    "## 1.2. 获取因子的时间序列"
   ]
  },
  {
   "cell_type": "code",
   "execution_count": 4,
   "metadata": {
    "collapsed": false
   },
   "outputs": [
    {
     "data": {
      "text/html": [
       "<div id=\"chart_idDLLnGRYB\"</div>\n",
       "    <script type=\"text/javascript\">new Highcharts.StockChart({\"title\":{\"text\":\"CPI\\u6d4b\\u8bd5\"},\"series\":[{\"data\":[[1137801600000,1.9],[1140220800000,0.9],[1142899200000,0.8],[1145491200000,1.2],[1148169600000,1.4],[1150761600000,1.5],[1153440000000,1.0],[1156118400000,1.3],[1158710400000,1.5],[1161388800000,1.4],[1163980800000,1.9],[1166659200000,2.8],[1169337600000,2.2],[1171756800000,2.7],[1174435200000,3.3],[1177027200000,3.0],[1179705600000,3.4],[1182297600000,4.4],[1184976000000,5.6],[1187654400000,6.5],[1190246400000,6.2],[1192924800000,6.5],[1195516800000,6.9],[1198195200000,6.5],[1200873600000,7.1],[1203379200000,8.7],[1206057600000,8.3],[1208649600000,8.5],[1211328000000,7.7],[1213920000000,7.1],[1216598400000,6.3],[1219276800000,4.9],[1221868800000,4.6],[1224547200000,4.0],[1227139200000,2.4],[1229817600000,1.2],[1232496000000,1.0],[1234915200000,-1.6],[1237593600000,-1.2],[1240185600000,-1.5],[1242864000000,-1.4],[1245456000000,-1.7],[1248134400000,-1.8],[1250812800000,-1.2],[1253404800000,-0.8],[1256083200000,-0.5],[1258675200000,0.6],[1261353600000,1.9],[1264032000000,1.5],[1266451200000,2.7],[1269129600000,2.4],[1271721600000,2.8],[1274400000000,3.1],[1276992000000,2.9],[1279670400000,3.3],[1282348800000,3.5],[1284940800000,3.6],[1287619200000,4.4],[1290211200000,5.1],[1292889600000,4.6],[1295568000000,4.9],[1297987200000,4.944],[1300665600000,5.383],[1303257600000,5.344],[1305936000000,5.515],[1308528000000,6.355],[1311206400000,6.451],[1313884800000,6.151],[1316476800000,6.067],[1319155200000,5.495],[1321747200000,4.225],[1324425600000,4.07],[1327104000000,4.5],[1329609600000,3.2],[1332288000000,3.6],[1334880000000,3.4],[1337558400000,3.0],[1340150400000,2.2],[1342828800000,1.8],[1345507200000,2.0],[1348099200000,1.9],[1350777600000,1.7],[1353369600000,2.0],[1356048000000,2.5],[1358726400000,2.0305],[1361145600000,3.2198],[1363824000000,2.0696],[1366416000000,2.3861],[1369094400000,2.0981],[1371686400000,2.6684],[1374364800000,2.6741],[1377043200000,2.5666],[1379635200000,3.0519],[1382313600000,3.2058],[1384905600000,3.018],[1387584000000,2.4987],[1390262400000,2.4861],[1392681600000,1.9511],[1395360000000,2.3848],[1397952000000,1.8014],[1400630400000,2.4773],[1403222400000,2.3361],[1405900800000,2.2852],[1408579200000,1.9909],[1411171200000,1.6275],[1413849600000,1.6011],[1416441600000,1.4393],[1419120000000,1.5056],[1421798400000,0.7638],[1424217600000,1.4311],[1426896000000,1.3758],[1429488000000,1.5091],[1432166400000,1.2308],[1434758400000,1.3909],[1437436800000,1.6473],[1440115200000,1.9554],[1442707200000,1.5956],[1445385600000,1.2674],[1447977600000,1.4856],[1450656000000,1.6],[1453334400000,1.8],[1455840000000,2.3],[1458518400000,2.301391],[1461110400000,2.327865],[1463788800000,2.038999],[1466380800000,1.879503],[1469059200000,1.765113],[1471737600000,1.339773],[1474329600000,1.920226],[1477008000000,2.095947],[1479600000000,2.252258],[1482278400000,2.076545],[1484956800000,2.549055],[1487376000000,0.8],[1490054400000,0.9],[1492646400000,1.2],[1495324800000,1.5],[1497916800000,1.5],[1500595200000,1.4],[1503273600000,1.8]],\"name\":\"m0000612_close\",\"yAxis\":0}],\"yAxis\":[{}],\"chart\":{\"renderTo\":\"chart_idDLLnGRYB\"},\"xAxis\":{\"type\":\"datetime\",\"title\":{\"text\":\"trade_date\"}},\"legend\":{\"enabled\":true}});</script>"
      ],
      "text/plain": [
       "<IPython.core.display.HTML object>"
      ]
     },
     "metadata": {},
     "output_type": "display_data"
    }
   ],
   "source": [
    "factor_df = WindHelper.getMultiTimeSeriesDataFrame([\"M0000612\"], beginDate=beginDate, endDate=endDate,\n",
    "                                                para=para)\n",
    "factor_df = factor_df.dropna()\n",
    "factor_df.index = factor_df.index - timedelta(days=10)\n",
    "%matplotlib inline\n",
    "import pandas_highcharts\n",
    "from pandas_highcharts.display import display_charts\n",
    "import matplotlib.pyplot as plt\n",
    "display_charts(factor_df, chart_type=\"stock\", title=\"CPI测试\")"
   ]
  },
  {
   "cell_type": "markdown",
   "metadata": {},
   "source": [
    "# 2.因子校验器"
   ]
  },
  {
   "cell_type": "markdown",
   "metadata": {},
   "source": [
    "设置因子事件的配置文件"
   ]
  },
  {
   "cell_type": "code",
   "execution_count": 4,
   "metadata": {
    "collapsed": true
   },
   "outputs": [],
   "source": [
    "config = {\"type\":NEGATIVE, \"his_count\": 12,\"std_count\":1, \"period\": 1}"
   ]
  },
  {
   "cell_type": "code",
   "execution_count": 5,
   "metadata": {
    "collapsed": false
   },
   "outputs": [],
   "source": [
    "# adjust_factor_series = get_adj_factor_series(df[\"060e.cs_close\"], factor_df[\"m0000612_close\"], lag=2)\n",
    "# len(df[\"060e.cs_close\"])\n",
    "# report = sharp_ratio_test(df[\"060e.cs_close\"], factor_df[\"m0000612_close\"], \"e001\", config)"
   ]
  },
  {
   "cell_type": "code",
   "execution_count": 6,
   "metadata": {
    "collapsed": false
   },
   "outputs": [],
   "source": [
    "# %matplotlib inline\n",
    "# report[\"ts\"].loc[:,[\"value\",\"base\"]].plot()"
   ]
  },
  {
   "cell_type": "code",
   "execution_count": 7,
   "metadata": {
    "collapsed": false
   },
   "outputs": [
    {
     "data": {
      "text/plain": [
       "2006-02-20    1.9\n",
       "2006-03-22    0.9\n",
       "2006-04-21    0.8\n",
       "2006-05-22    1.2\n",
       "2006-06-21    1.4\n",
       "Name: m0000612_close, dtype: float64"
      ]
     },
     "execution_count": 7,
     "metadata": {},
     "output_type": "execute_result"
    }
   ],
   "source": [
    "get_adj_factor_series(df, factor_df[\"m0000612_close\"], lag=2).head()"
   ]
  },
  {
   "cell_type": "code",
   "execution_count": 8,
   "metadata": {
    "collapsed": false
   },
   "outputs": [],
   "source": [
    "report2 = one_direction_test(df[\"S0059749\"], factor_df[\"m0000612_close\"], \"e001\", config,asset_price=False)"
   ]
  },
  {
   "cell_type": "code",
   "execution_count": 9,
   "metadata": {
    "collapsed": false
   },
   "outputs": [
    {
     "data": {
      "text/plain": [
       "{'ir': 0.24212096639367653, 'ts':             m0000612_close     bp\n",
       " 2007-01-22        0.790055   8.23\n",
       " 2007-02-25        0.137117  28.50\n",
       " 2007-03-22        0.423785  19.50\n",
       " 2007-04-23        0.714535  46.00\n",
       " 2007-05-22        0.226578  42.00\n",
       " 2007-06-21        0.388743   0.70\n",
       " 2007-07-23        0.960817 -25.00\n",
       " 2007-08-22        1.524548  26.80\n",
       " 2007-09-21        1.696667  -1.50\n",
       " 2007-10-22        0.892807   6.50\n",
       " 2007-11-21        0.734987  -9.33\n",
       " 2007-12-24        0.679200  -8.38\n",
       " 2008-02-20        0.238085  -9.74\n",
       " 2008-03-24        1.251393  -6.83\n",
       " 2008-04-21        0.456213  15.44\n",
       " 2008-05-22        0.369149  30.85\n",
       " 2009-12-22        0.260036  -2.07\n",
       " 2010-01-22        1.375907 -14.11\n",
       " 2010-02-20        0.864270  -6.73\n",
       " 2010-03-22        1.426627   1.38\n",
       " 2010-04-21        0.679416 -20.77\n",
       " 2010-05-24        0.619894  16.48\n",
       " 2010-06-21        0.480873 -17.64\n",
       " 2010-08-23        0.112133  10.45\n",
       " 2010-09-21        0.087437  29.67\n",
       " 2010-10-22        0.037370  28.03\n",
       " 2010-11-22        0.653304 -11.57\n",
       " 2010-12-22        1.003643  19.14\n",
       " 2011-01-24        0.269447   7.84\n",
       " 2011-02-21        0.371728 -17.15\n",
       " 2011-03-22        0.202455  -0.75\n",
       " 2011-04-21        0.400967  -5.12\n",
       " 2011-05-23        0.169377   6.03\n",
       " 2011-06-21        0.150922  16.68\n",
       " 2011-07-22        0.693916 -13.46\n",
       " 2011-08-22        0.527607  15.83\n",
       " 2011-09-21        0.087246 -33.75\n",
       " 2013-03-22        0.096153  -9.49\n",
       " 2013-07-22        0.042155  29.01\n",
       " 2013-10-22        0.184196  57.04\n",
       " 2013-11-21        0.219786  -9.92\n",
       " 2015-09-21        0.215574 -26.88\n",
       " 2016-02-22        0.064815  -1.22\n",
       " 2016-03-22        0.398894   9.04\n",
       " 2016-04-21        0.271336   3.42\n",
       " 2016-05-23        0.187996  -1.45\n",
       " 2017-02-20        0.159092   2.56, 'worst_perform': -33.749999999999993}"
      ]
     },
     "execution_count": 9,
     "metadata": {},
     "output_type": "execute_result"
    }
   ],
   "source": [
    "# %matplotlib inline\n",
    "report2"
   ]
  },
  {
   "cell_type": "code",
   "execution_count": 12,
   "metadata": {
    "collapsed": false
   },
   "outputs": [
    {
     "data": {
      "text/plain": [
       "0.6382978723404256"
      ]
     },
     "execution_count": 12,
     "metadata": {},
     "output_type": "execute_result"
    }
   ],
   "source": [
    "series = report2[\"ts\"][\"bp\"]\n",
    "len(series[series > -5])*1.0/len(series)"
   ]
  },
  {
   "cell_type": "markdown",
   "metadata": {},
   "source": [
    "拥有63%的概率机会成本在5BP以内"
   ]
  }
 ],
 "metadata": {
  "kernelspec": {
   "display_name": "Python 2",
   "language": "python",
   "name": "python2"
  },
  "language_info": {
   "codemirror_mode": {
    "name": "ipython",
    "version": 2
   },
   "file_extension": ".py",
   "mimetype": "text/x-python",
   "name": "python",
   "nbconvert_exporter": "python",
   "pygments_lexer": "ipython2",
   "version": "2.7.13"
  }
 },
 "nbformat": 4,
 "nbformat_minor": 0
}
