{
 "cells": [
  {
   "cell_type": "code",
   "execution_count": 27,
   "metadata": {
    "collapsed": false
   },
   "outputs": [],
   "source": [
    "import os\n",
    "import sys\n",
    "nb_dir = os.path.split(os.getcwd())[0]\n",
    "if nb_dir not in sys.path:\n",
    "    sys.path.append(nb_dir)"
   ]
  },
  {
   "cell_type": "code",
   "execution_count": 28,
   "metadata": {
    "collapsed": false
   },
   "outputs": [
    {
     "data": {
      "text/html": [
       "<div>\n",
       "<table border=\"1\" class=\"dataframe\">\n",
       "  <thead>\n",
       "    <tr style=\"text-align: right;\">\n",
       "      <th></th>\n",
       "      <th>060e.cs_close</th>\n",
       "      <th>s5914515_close</th>\n",
       "    </tr>\n",
       "    <tr>\n",
       "      <th>trade_date</th>\n",
       "      <th></th>\n",
       "      <th></th>\n",
       "    </tr>\n",
       "  </thead>\n",
       "  <tbody>\n",
       "    <tr>\n",
       "      <th>2012-01-04</th>\n",
       "      <td>145.4845</td>\n",
       "      <td>126.45</td>\n",
       "    </tr>\n",
       "    <tr>\n",
       "      <th>2012-01-06</th>\n",
       "      <td>145.7342</td>\n",
       "      <td>126.15</td>\n",
       "    </tr>\n",
       "    <tr>\n",
       "      <th>2012-01-11</th>\n",
       "      <td>146.1831</td>\n",
       "      <td>125.69</td>\n",
       "    </tr>\n",
       "    <tr>\n",
       "      <th>2012-01-13</th>\n",
       "      <td>145.8938</td>\n",
       "      <td>125.57</td>\n",
       "    </tr>\n",
       "    <tr>\n",
       "      <th>2012-01-16</th>\n",
       "      <td>145.8779</td>\n",
       "      <td>125.72</td>\n",
       "    </tr>\n",
       "  </tbody>\n",
       "</table>\n",
       "</div>"
      ],
      "text/plain": [
       "            060e.cs_close  s5914515_close\n",
       "trade_date                               \n",
       "2012-01-04       145.4845          126.45\n",
       "2012-01-06       145.7342          126.15\n",
       "2012-01-11       146.1831          125.69\n",
       "2012-01-13       145.8938          125.57\n",
       "2012-01-16       145.8779          125.72"
      ]
     },
     "execution_count": 28,
     "metadata": {},
     "output_type": "execute_result"
    }
   ],
   "source": [
    "from windHelper import WindHelper\n",
    "from datetime import datetime\n",
    "from factorModel.factorValidator import check_factor\n",
    "beginDate = datetime(2012, 1, 1)\n",
    "endDate = datetime(2017, 8, 22)\n",
    "para = \"close\"\n",
    "df = WindHelper.getMultiTimeSeriesDataFrame([\"060E.CS\", \"S5914515\"], beginDate=beginDate, endDate=endDate,\n",
    "                                                para=para)\n",
    "df = df.dropna()\n",
    "df.head()"
   ]
  },
  {
   "cell_type": "code",
   "execution_count": 24,
   "metadata": {
    "collapsed": false
   },
   "outputs": [
    {
     "data": {
      "text/html": [
       "<div>\n",
       "<table border=\"1\" class=\"dataframe\">\n",
       "  <thead>\n",
       "    <tr style=\"text-align: right;\">\n",
       "      <th></th>\n",
       "      <th>060e.cs_close</th>\n",
       "      <th>s5914515_close</th>\n",
       "      <th>shuini</th>\n",
       "    </tr>\n",
       "    <tr>\n",
       "      <th>trade_date</th>\n",
       "      <th></th>\n",
       "      <th></th>\n",
       "      <th></th>\n",
       "    </tr>\n",
       "  </thead>\n",
       "  <tbody>\n",
       "    <tr>\n",
       "      <th>2012-01-04</th>\n",
       "      <td>145.4845</td>\n",
       "      <td>126.45</td>\n",
       "      <td>-126.45</td>\n",
       "    </tr>\n",
       "    <tr>\n",
       "      <th>2012-01-06</th>\n",
       "      <td>145.7342</td>\n",
       "      <td>126.15</td>\n",
       "      <td>-126.15</td>\n",
       "    </tr>\n",
       "    <tr>\n",
       "      <th>2012-01-11</th>\n",
       "      <td>146.1831</td>\n",
       "      <td>125.69</td>\n",
       "      <td>-125.69</td>\n",
       "    </tr>\n",
       "    <tr>\n",
       "      <th>2012-01-13</th>\n",
       "      <td>145.8938</td>\n",
       "      <td>125.57</td>\n",
       "      <td>-125.57</td>\n",
       "    </tr>\n",
       "    <tr>\n",
       "      <th>2012-01-16</th>\n",
       "      <td>145.8779</td>\n",
       "      <td>125.72</td>\n",
       "      <td>-125.72</td>\n",
       "    </tr>\n",
       "  </tbody>\n",
       "</table>\n",
       "</div>"
      ],
      "text/plain": [
       "            060e.cs_close  s5914515_close  shuini\n",
       "trade_date                                       \n",
       "2012-01-04       145.4845          126.45 -126.45\n",
       "2012-01-06       145.7342          126.15 -126.15\n",
       "2012-01-11       146.1831          125.69 -125.69\n",
       "2012-01-13       145.8938          125.57 -125.57\n",
       "2012-01-16       145.8779          125.72 -125.72"
      ]
     },
     "execution_count": 24,
     "metadata": {},
     "output_type": "execute_result"
    }
   ],
   "source": [
    "# 计算因子\n",
    "df.loc[:, \"shuini\"] = -df.loc[:, \"s5914515_close\"]\n",
    "df.head()\n",
    "# df.loc[:,\"shuini\"].head()"
   ]
  },
  {
   "cell_type": "code",
   "execution_count": 25,
   "metadata": {
    "collapsed": false
   },
   "outputs": [
    {
     "name": "stdout",
     "output_type": "stream",
     "text": [
      "该因子的信息比率是: 0.114574\n",
      "该因子的超额夏普比率是：0.513635\n",
      "0.586666666667\n"
     ]
    }
   ],
   "source": [
    "result = check_factor(df[\"060e.cs_close\"], df[\"shuini\"], \"avg_break\", {\"his_count\": 60,\"std_count\":0}, period=5)\n",
    "print \"该因子的信息比率是: %f\" % result[\"ir\"]\n",
    "print \"该因子的超额夏普比率是：%f\" % result[\"excess_sp\"]\n",
    "print result[\"precious\"]"
   ]
  },
  {
   "cell_type": "code",
   "execution_count": 26,
   "metadata": {
    "collapsed": false
   },
   "outputs": [
    {
     "data": {
      "text/plain": [
       "<matplotlib.axes._subplots.AxesSubplot at 0x1c4b1210>"
      ]
     },
     "execution_count": 26,
     "metadata": {},
     "output_type": "execute_result"
    },
    {
     "data": {
      "image/png": "[encoded data removed]",
      "text/plain": [
       "<matplotlib.figure.Figure at 0x1c4be690>"
      ]
     },
     "metadata": {},
     "output_type": "display_data"
    }
   ],
   "source": [
    "%matplotlib inline\n",
    "result[\"ts\"].plot()"
   ]
  }
 ],
 "metadata": {
  "kernelspec": {
   "display_name": "Python 2",
   "language": "python",
   "name": "python2"
  },
  "language_info": {
   "codemirror_mode": {
    "name": "ipython",
    "version": 2
   },
   "file_extension": ".py",
   "mimetype": "text/x-python",
   "name": "python",
   "nbconvert_exporter": "python",
   "pygments_lexer": "ipython2",
   "version": "2.7.13"
  }
 },
 "nbformat": 4,
 "nbformat_minor": 0
}
