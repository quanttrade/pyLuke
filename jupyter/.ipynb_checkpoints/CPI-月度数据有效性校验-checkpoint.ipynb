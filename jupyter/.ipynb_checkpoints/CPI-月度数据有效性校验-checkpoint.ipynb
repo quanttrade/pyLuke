{
 "cells": [
  {
   "cell_type": "markdown",
   "metadata": {},
   "source": [
    "# 1. 数据准备"
   ]
  },
  {
   "cell_type": "code",
   "execution_count": 1,
   "metadata": {
    "collapsed": false
   },
   "outputs": [],
   "source": [
    "import os\n",
    "import sys\n",
    "nb_dir = os.path.split(os.getcwd())[0]\n",
    "if nb_dir not in sys.path:\n",
    "    sys.path.append(nb_dir)\n",
    "from factorModel.factorValidator import *\n",
    "from windHelper import WindHelper\n",
    "from datetime import *"
   ]
  },
  {
   "cell_type": "markdown",
   "metadata": {},
   "source": [
    "## 1.2. 获取资产价格时间序列"
   ]
  },
  {
   "cell_type": "code",
   "execution_count": 2,
   "metadata": {
    "collapsed": false
   },
   "outputs": [
    {
     "name": "stdout",
     "output_type": "stream",
     "text": [
      "Welcome to use Wind Quant API for Python (WindPy)!\n",
      "You can use w.menu to help yourself to create commands(WSD,WSS,WST,WSI,WSQ,...)!\n",
      "\n",
      "COPYRIGHT (C) 2017 WIND INFORMATION CO., LTD. ALL RIGHTS RESERVED.\n",
      "IN NO CIRCUMSTANCE SHALL WIND BE RESPONSIBLE FOR ANY DAMAGES OR LOSSES CAUSED BY USING WIND QUANT API FOR Python.\n"
     ]
    },
    {
     "data": {
      "text/html": [
       "<div>\n",
       "<table border=\"1\" class=\"dataframe\">\n",
       "  <thead>\n",
       "    <tr style=\"text-align: right;\">\n",
       "      <th></th>\n",
       "      <th>s0059749_close</th>\n",
       "    </tr>\n",
       "    <tr>\n",
       "      <th>trade_date</th>\n",
       "      <th></th>\n",
       "    </tr>\n",
       "  </thead>\n",
       "  <tbody>\n",
       "    <tr>\n",
       "      <th>2017-08-16</th>\n",
       "      <td>3.5988</td>\n",
       "    </tr>\n",
       "    <tr>\n",
       "      <th>2017-08-17</th>\n",
       "      <td>3.5926</td>\n",
       "    </tr>\n",
       "    <tr>\n",
       "      <th>2017-08-18</th>\n",
       "      <td>3.5951</td>\n",
       "    </tr>\n",
       "    <tr>\n",
       "      <th>2017-08-21</th>\n",
       "      <td>3.6181</td>\n",
       "    </tr>\n",
       "    <tr>\n",
       "      <th>2017-08-22</th>\n",
       "      <td>3.6201</td>\n",
       "    </tr>\n",
       "  </tbody>\n",
       "</table>\n",
       "</div>"
      ],
      "text/plain": [
       "            s0059749_close\n",
       "trade_date                \n",
       "2017-08-16          3.5988\n",
       "2017-08-17          3.5926\n",
       "2017-08-18          3.5951\n",
       "2017-08-21          3.6181\n",
       "2017-08-22          3.6201"
      ]
     },
     "execution_count": 2,
     "metadata": {},
     "output_type": "execute_result"
    }
   ],
   "source": [
    "beginDate = datetime(2006, 1, 1)\n",
    "endDate = datetime(2017, 8, 22)\n",
    "para = \"close\"\n",
    "df = WindHelper.getMultiTimeSeriesDataFrame([\"S0059749\"], beginDate=beginDate, endDate=endDate, para=para)\n",
    "df = df.dropna()\n",
    "df.tail()"
   ]
  },
  {
   "cell_type": "markdown",
   "metadata": {},
   "source": [
    "## 1.2. 获取因子的时间序列"
   ]
  },
  {
   "cell_type": "code",
   "execution_count": 15,
   "metadata": {
    "collapsed": false
   },
   "outputs": [
    {
     "data": {
      "text/html": [
       "<div id=\"chart_idjYJLRXCm\"</div>\n",
       "    <script type=\"text/javascript\">new Highcharts.StockChart({\"title\":{\"text\":\"\\u6d4b\\u8bd5\"},\"series\":[{\"data\":[[1138665600000,1.9],[1141084800000,0.9],[1143763200000,0.8],[1146355200000,1.2],[1149033600000,1.4],[1151625600000,1.5],[1154304000000,1.0],[1156982400000,1.3],[1159574400000,1.5],[1162252800000,1.4],[1164844800000,1.9],[1167523200000,2.8],[1170201600000,2.2],[1172620800000,2.7],[1175299200000,3.3],[1177891200000,3.0],[1180569600000,3.4],[1183161600000,4.4],[1185840000000,5.6],[1188518400000,6.5],[1191110400000,6.2],[1193788800000,6.5],[1196380800000,6.9],[1199059200000,6.5],[1201737600000,7.1],[1204243200000,8.7],[1206921600000,8.3],[1209513600000,8.5],[1212192000000,7.7],[1214784000000,7.1],[1217462400000,6.3],[1220140800000,4.9],[1222732800000,4.6],[1225411200000,4.0],[1228003200000,2.4],[1230681600000,1.2],[1233360000000,1.0],[1235779200000,-1.6],[1238457600000,-1.2],[1241049600000,-1.5],[1243728000000,-1.4],[1246320000000,-1.7],[1248998400000,-1.8],[1251676800000,-1.2],[1254268800000,-0.8],[1256947200000,-0.5],[1259539200000,0.6],[1262217600000,1.9],[1264896000000,1.5],[1267315200000,2.7],[1269993600000,2.4],[1272585600000,2.8],[1275264000000,3.1],[1277856000000,2.9],[1280534400000,3.3],[1283212800000,3.5],[1285804800000,3.6],[1288483200000,4.4],[1291075200000,5.1],[1293753600000,4.6],[1296432000000,4.9],[1298851200000,4.944],[1301529600000,5.383],[1304121600000,5.344],[1306800000000,5.515],[1309392000000,6.355],[1312070400000,6.451],[1314748800000,6.151],[1317340800000,6.067],[1320019200000,5.495],[1322611200000,4.225],[1325289600000,4.07],[1327968000000,4.5],[1330473600000,3.2],[1333152000000,3.6],[1335744000000,3.4],[1338422400000,3.0],[1341014400000,2.2],[1343692800000,1.8],[1346371200000,2.0],[1348963200000,1.9],[1351641600000,1.7],[1354233600000,2.0],[1356912000000,2.5],[1359590400000,2.0305],[1362009600000,3.2198],[1364688000000,2.0696],[1367280000000,2.3861],[1369958400000,2.0981],[1372550400000,2.6684],[1375228800000,2.6741],[1377907200000,2.5666],[1380499200000,3.0519],[1383177600000,3.2058],[1385769600000,3.018],[1388448000000,2.4987],[1391126400000,2.4861],[1393545600000,1.9511],[1396224000000,2.3848],[1398816000000,1.8014],[1401494400000,2.4773],[1404086400000,2.3361],[1406764800000,2.2852],[1409443200000,1.9909],[1412035200000,1.6275],[1414713600000,1.6011],[1417305600000,1.4393],[1419984000000,1.5056],[1422662400000,0.7638],[1425081600000,1.4311],[1427760000000,1.3758],[1430352000000,1.5091],[1433030400000,1.2308],[1435622400000,1.3909],[1438300800000,1.6473],[1440979200000,1.9554],[1443571200000,1.5956],[1446249600000,1.2674],[1448841600000,1.4856],[1451520000000,1.6],[1454198400000,1.8],[1456704000000,2.3],[1459382400000,2.301391],[1461974400000,2.327865],[1464652800000,2.038999],[1467244800000,1.879503],[1469923200000,1.765113],[1472601600000,1.339773],[1475193600000,1.920226],[1477872000000,2.095947],[1480464000000,2.252258],[1483142400000,2.076545],[1485820800000,2.549055],[1488240000000,0.8],[1490918400000,0.9],[1493510400000,1.2],[1496188800000,1.5],[1498780800000,1.5],[1501459200000,1.4],[1504137600000,1.8]],\"name\":\"m0000612_close (right)\",\"yAxis\":1},{\"data\":[[1138665600000,null],[1141084800000,2.9266],[1143763200000,2.94],[1146355200000,3.0],[1149033600000,3.02],[1151625600000,3.165],[1154304000000,3.26],[1156982400000,3.238],[1159574400000,2.999],[1162252800000,2.9512],[1164844800000,2.9781],[1167523200000,3.0269],[1170201600000,3.0671],[1172620800000,3.1466],[1175299200000,null],[1177891200000,3.5916],[1180569600000,4.06],[1183161600000,null],[1185840000000,4.3401],[1188518400000,4.2743],[1191110400000,4.3877],[1193788800000,4.4937],[1196380800000,4.5086],[1199059200000,null],[1201737600000,4.1937],[1204243200000,4.1283],[1206921600000,4.046],[1209513600000,4.0725],[1212192000000,null],[1214784000000,4.5285],[1217462400000,4.4401],[1220140800000,null],[1222732800000,null],[1225411200000,3.0751],[1228003200000,null],[1230681600000,2.7521],[1233360000000,null],[1235779200000,null],[1238457600000,3.1612],[1241049600000,3.1072],[1243728000000,3.0409],[1246320000000,3.2403],[1248998400000,3.503],[1251676800000,3.4805],[1254268800000,3.5132],[1256947200000,null],[1259539200000,3.5569],[1262217600000,3.6422],[1264896000000,null],[1267315200000,null],[1269993600000,3.4818],[1272585600000,3.3565],[1275264000000,3.243],[1277856000000,3.279],[1280534400000,null],[1283212800000,3.2301],[1285804800000,3.3183],[1288483200000,null],[1291075200000,3.971],[1293753600000,3.8799],[1296432000000,4.0187],[1298851200000,3.9314],[1301529600000,3.912],[1304121600000,null],[1306800000000,3.8311],[1309392000000,3.8857],[1312070400000,null],[1314748800000,4.105],[1317340800000,3.8605],[1320019200000,3.7607],[1322611200000,3.6091],[1325289600000,3.4211],[1327968000000,3.4064],[1330473600000,3.534],[1333152000000,3.5004],[1335744000000,null],[1338422400000,3.3443],[1341014400000,null],[1343692800000,3.2915],[1346371200000,3.3928],[1348963200000,null],[1351641600000,3.5739],[1354233600000,3.5332],[1356912000000,3.5738],[1359590400000,3.6054],[1362009600000,3.5957],[1364688000000,null],[1367280000000,null],[1369958400000,3.4399],[1372550400000,null],[1375228800000,3.7214],[1377907200000,null],[1380499200000,3.9954],[1383177600000,4.1806],[1385769600000,null],[1388448000000,4.5518],[1391126400000,null],[1393545600000,4.4276],[1396224000000,4.5004],[1398816000000,4.3002],[1401494400000,null],[1404086400000,4.0612],[1406764800000,4.2655],[1409443200000,null],[1412035200000,3.9824],[1414713600000,3.7559],[1417305600000,null],[1419984000000,3.6219],[1422662400000,null],[1425081600000,3.3602],[1427760000000,3.6483],[1430352000000,3.3503],[1433030400000,null],[1435622400000,3.5976],[1438300800000,3.4752],[1440979200000,3.3252],[1443571200000,3.2362],[1446249600000,null],[1448841600000,3.0404],[1451520000000,2.8212],[1454198400000,null],[1456704000000,2.8502],[1459382400000,2.8419],[1461974400000,null],[1464652800000,2.9851],[1467244800000,2.8411],[1469923200000,null],[1472601600000,2.7425],[1475193600000,2.7258],[1477872000000,2.7425],[1480464000000,2.9502],[1483142400000,3.0115],[1485820800000,null],[1488240000000,3.2921],[1490918400000,3.2828],[1493510400000,null],[1496188800000,3.6102],[1498780800000,3.5683],[1501459200000,3.626],[1504137600000,null]],\"name\":\"s0059749_close\",\"yAxis\":0}],\"yAxis\":[{},{\"opposite\":true}],\"chart\":{\"renderTo\":\"chart_idjYJLRXCm\"},\"xAxis\":{\"type\":\"datetime\",\"title\":{\"text\":\"trade_date\"}},\"legend\":{\"enabled\":true}});</script>"
      ],
      "text/plain": [
       "<IPython.core.display.HTML object>"
      ]
     },
     "metadata": {},
     "output_type": "display_data"
    }
   ],
   "source": [
    "factor_df = WindHelper.getMultiTimeSeriesDataFrame([\"M0000612\"], beginDate=beginDate, endDate=endDate,\n",
    "                                                para=para)\n",
    "factor_df = factor_df.dropna()\n",
    "factor_df.index = factor_df.index - timedelta(days=0)\n",
    "%matplotlib inline\n",
    "import pandas_highcharts\n",
    "from pandas_highcharts.display import display_charts\n",
    "import matplotlib.pyplot as plt\n",
    "display_charts(factor_df.join(df, how=\"left\"), chart_type=\"stock\", secondary_y=factor_df.columns[0],title=\"测试\")"
   ]
  },
  {
   "cell_type": "markdown",
   "metadata": {},
   "source": [
    "# 2.因子校验"
   ]
  },
  {
   "cell_type": "markdown",
   "metadata": {},
   "source": [
    "## 2.1. e001事件：短期高点"
   ]
  },
  {
   "cell_type": "markdown",
   "metadata": {},
   "source": [
    "设置因子事件的配置文件"
   ]
  },
  {
   "cell_type": "code",
   "execution_count": 25,
   "metadata": {
    "collapsed": false
   },
   "outputs": [],
   "source": [
    "config_e001 = {\"relation\":NEGATIVE,\"type\":UP,\"his_count\": 12,\"std_count\":1, \"period\": 1}"
   ]
  },
  {
   "cell_type": "code",
   "execution_count": 26,
   "metadata": {
    "collapsed": false
   },
   "outputs": [],
   "source": [
    "# adjust_factor_series = get_adj_factor_series(df, factor_df, lag=2)\n",
    "# len(df[\"060e.cs_close\"])\n",
    "report = perform_after_event(df[df.columns[0]], factor_df[factor_df.columns[0]], \"e001\", config_e001, lag=2, asset_price=False)"
   ]
  },
  {
   "cell_type": "code",
   "execution_count": 27,
   "metadata": {
    "collapsed": false
   },
   "outputs": [
    {
     "name": "stdout",
     "output_type": "stream",
     "text": [
      "40\n",
      "-29.55\n",
      "1.96825\n",
      "0.5\n"
     ]
    },
    {
     "data": {
      "text/plain": [
       "2007-08-01    -5.07\n",
       "2007-09-03    13.14\n",
       "2007-10-08    13.36\n",
       "2007-11-01     0.85\n",
       "2007-12-03    -8.22\n",
       "2008-01-03   -29.55\n",
       "2008-02-01    -0.23\n",
       "2008-03-03    -7.22\n",
       "2008-04-01     1.41\n",
       "2008-05-04     8.84\n",
       "2008-06-03    37.21\n",
       "2010-04-01    -9.16\n",
       "2010-05-04   -11.00\n",
       "2010-06-01     1.22\n",
       "2010-07-01     2.57\n",
       "2010-08-03    -7.47\n",
       "2010-09-01     9.84\n",
       "2010-10-08    41.55\n",
       "2010-11-02    14.22\n",
       "2010-12-01    -3.13\n",
       "2011-01-04    15.80\n",
       "2011-02-01    -9.27\n",
       "2011-03-01    -1.33\n",
       "2011-04-01    -3.54\n",
       "2011-05-04    -4.61\n",
       "2011-06-01     4.64\n",
       "2011-07-01    18.40\n",
       "2011-08-02     0.93\n",
       "2011-09-01   -21.03\n",
       "2011-10-08   -12.10\n",
       "2011-11-01   -23.90\n",
       "2013-11-01    28.56\n",
       "2013-12-03    16.06\n",
       "2014-01-02   -13.38\n",
       "2016-03-01    -1.05\n",
       "2016-04-01     5.43\n",
       "2016-05-04     9.87\n",
       "2016-06-01   -19.14\n",
       "2017-01-03    30.45\n",
       "2017-03-01    -5.22\n",
       "Name: bp, dtype: float64"
      ]
     },
     "execution_count": 27,
     "metadata": {},
     "output_type": "execute_result"
    }
   ],
   "source": [
    "%matplotlib inline\n",
    "print len(report[\"ts\"])\n",
    "print report[\"ts\"][\"bp\"].min()\n",
    "print report[\"ts\"][\"bp\"].mean()\n",
    "print (report[\"ts\"][\"bp\"] > 0).sum()*1.0/len(report[\"ts\"])\n",
    "report[\"ts\"][\"bp\"]"
   ]
  },
  {
   "cell_type": "code",
   "execution_count": 7,
   "metadata": {
    "collapsed": false
   },
   "outputs": [
    {
     "data": {
      "text/html": [
       "<div>\n",
       "<table border=\"1\" class=\"dataframe\">\n",
       "  <thead>\n",
       "    <tr style=\"text-align: right;\">\n",
       "      <th></th>\n",
       "      <th>m0000612_close</th>\n",
       "    </tr>\n",
       "    <tr>\n",
       "      <th>trade_date</th>\n",
       "      <th></th>\n",
       "    </tr>\n",
       "  </thead>\n",
       "  <tbody>\n",
       "    <tr>\n",
       "      <th>2017-04-30</th>\n",
       "      <td>1.2</td>\n",
       "    </tr>\n",
       "    <tr>\n",
       "      <th>2017-05-31</th>\n",
       "      <td>1.5</td>\n",
       "    </tr>\n",
       "    <tr>\n",
       "      <th>2017-06-30</th>\n",
       "      <td>1.5</td>\n",
       "    </tr>\n",
       "    <tr>\n",
       "      <th>2017-07-31</th>\n",
       "      <td>1.4</td>\n",
       "    </tr>\n",
       "    <tr>\n",
       "      <th>2017-08-31</th>\n",
       "      <td>1.8</td>\n",
       "    </tr>\n",
       "  </tbody>\n",
       "</table>\n",
       "</div>"
      ],
      "text/plain": [
       "            m0000612_close\n",
       "trade_date                \n",
       "2017-04-30             1.2\n",
       "2017-05-31             1.5\n",
       "2017-06-30             1.5\n",
       "2017-07-31             1.4\n",
       "2017-08-31             1.8"
      ]
     },
     "execution_count": 7,
     "metadata": {},
     "output_type": "execute_result"
    }
   ],
   "source": [
    "factor_df.tail()"
   ]
  },
  {
   "cell_type": "code",
   "execution_count": 8,
   "metadata": {
    "collapsed": false
   },
   "outputs": [
    {
     "data": {
      "text/plain": [
       "-0.8429467078050602"
      ]
     },
     "execution_count": 8,
     "metadata": {},
     "output_type": "execute_result"
    }
   ],
   "source": [
    "e001(adjust_factor_series=factor_df[factor_df.columns[0]],cur_date=datetime(2017,9,9), config=config)"
   ]
  },
  {
   "cell_type": "markdown",
   "metadata": {},
   "source": [
    "# 2.2.  e003x2事件(下跌后反转)"
   ]
  },
  {
   "cell_type": "code",
   "execution_count": 9,
   "metadata": {
    "collapsed": false
   },
   "outputs": [],
   "source": [
    "config = {\n",
    "    \"relation\":NEGATIVE,\n",
    "    \"type\":UP,\n",
    "    \"his_count\": 3,\n",
    "    \"threshold\":0, \n",
    "    \"threshold2\":0,\n",
    "    \"period\": 1\n",
    "}\n",
    "report2 = perform_after_event(df[df.columns[0]], factor_df[factor_df.columns[0]], \"e003x2\", config, lag=1, asset_price=False)"
   ]
  },
  {
   "cell_type": "code",
   "execution_count": 10,
   "metadata": {
    "collapsed": false
   },
   "outputs": [
    {
     "name": "stdout",
     "output_type": "stream",
     "text": [
      "7\n",
      "-20.52\n",
      "-4.99714285714\n",
      "0.428571428571\n"
     ]
    },
    {
     "data": {
      "text/plain": [
       "2009-05-04    -4.77\n",
       "2010-01-04   -16.47\n",
       "2012-02-01    11.82\n",
       "2012-09-03     9.20\n",
       "2014-04-01   -20.52\n",
       "2015-01-04   -17.52\n",
       "2016-10-08     3.28\n",
       "Name: bp, dtype: float64"
      ]
     },
     "execution_count": 10,
     "metadata": {},
     "output_type": "execute_result"
    }
   ],
   "source": [
    "%matplotlib inline\n",
    "print len(report2[\"ts\"])\n",
    "print report2[\"ts\"][\"bp\"].min()\n",
    "print report2[\"ts\"][\"bp\"].mean()\n",
    "print (report2[\"ts\"][\"bp\"] > 0).sum()*1.0/len(report2[\"ts\"])\n",
    "report2[\"ts\"][\"bp\"]"
   ]
  },
  {
   "cell_type": "markdown",
   "metadata": {
    "collapsed": false
   },
   "source": [
    "## 2.3. e003x1事件(上涨后反转)"
   ]
  },
  {
   "cell_type": "code",
   "execution_count": 11,
   "metadata": {
    "collapsed": true
   },
   "outputs": [],
   "source": [
    "config = {\n",
    "    \"relation\":NEGATIVE,\n",
    "    \"type\":DOWN,\n",
    "    \"his_count\": 3,\n",
    "    \"threshold\":0, \n",
    "    \"threshold2\":0,\n",
    "    \"period\": 1\n",
    "}\n",
    "report2 = perform_after_event(df[df.columns[0]], factor_df[factor_df.columns[0]], \"e003x1\", config, lag=1, asset_price=False)"
   ]
  },
  {
   "cell_type": "code",
   "execution_count": 12,
   "metadata": {
    "collapsed": false
   },
   "outputs": [
    {
     "name": "stdout",
     "output_type": "stream",
     "text": [
      "8\n",
      "30.45\n",
      "-0.4075\n",
      "0.375\n"
     ]
    },
    {
     "data": {
      "text/plain": [
       "2006-08-01    -2.00\n",
       "2007-10-08    13.36\n",
       "2011-01-04    15.80\n",
       "2011-05-04    -4.61\n",
       "2011-09-01   -21.03\n",
       "2015-10-08   -16.09\n",
       "2016-06-01   -19.14\n",
       "2017-01-03    30.45\n",
       "Name: bp, dtype: float64"
      ]
     },
     "execution_count": 12,
     "metadata": {},
     "output_type": "execute_result"
    }
   ],
   "source": [
    "%matplotlib inline\n",
    "print len(report2[\"ts\"])\n",
    "print report2[\"ts\"][\"bp\"].max()\n",
    "print report2[\"ts\"][\"bp\"].mean()\n",
    "print (report2[\"ts\"][\"bp\"] > 0).sum()*1.0/len(report2[\"ts\"])\n",
    "report2[\"ts\"][\"bp\"]"
   ]
  },
  {
   "cell_type": "markdown",
   "metadata": {},
   "source": [
    "e003系列相对于PMI来说，基本无效"
   ]
  },
  {
   "cell_type": "markdown",
   "metadata": {},
   "source": [
    "## e002x1事件(连续上涨)"
   ]
  },
  {
   "cell_type": "code",
   "execution_count": 13,
   "metadata": {
    "collapsed": true
   },
   "outputs": [],
   "source": [
    "config = {\n",
    "    \"relation\":NEGATIVE,\n",
    "    \"type\":UP,\n",
    "    \"his_count\": 5,\n",
    "    \"threshold\":0, \n",
    "    \"period\": 1\n",
    "}\n",
    "report2 = perform_after_event(df[df.columns[0]], factor_df[factor_df.columns[0]], \"e002x1\", config, lag=1, asset_price=False)"
   ]
  },
  {
   "cell_type": "code",
   "execution_count": 14,
   "metadata": {
    "collapsed": false
   },
   "outputs": [
    {
     "name": "stdout",
     "output_type": "stream",
     "text": [
      "3\n",
      "-3.13\n",
      "4.05666666667\n",
      "0.666666666667\n"
     ]
    },
    {
     "data": {
      "text/plain": [
       "2010-12-01   -3.13\n",
       "2016-04-01    5.43\n",
       "2016-05-04    9.87\n",
       "Name: bp, dtype: float64"
      ]
     },
     "execution_count": 14,
     "metadata": {},
     "output_type": "execute_result"
    }
   ],
   "source": [
    "%matplotlib inline\n",
    "print len(report2[\"ts\"])\n",
    "print report2[\"ts\"][\"bp\"].min()\n",
    "print report2[\"ts\"][\"bp\"].mean()\n",
    "print (report2[\"ts\"][\"bp\"] > 0).sum()*1.0/len(report2[\"ts\"])\n",
    "report2[\"ts\"][\"bp\"]"
   ]
  }
 ],
 "metadata": {
  "kernelspec": {
   "display_name": "Python 2",
   "language": "python",
   "name": "python2"
  },
  "language_info": {
   "codemirror_mode": {
    "name": "ipython",
    "version": 2
   },
   "file_extension": ".py",
   "mimetype": "text/x-python",
   "name": "python",
   "nbconvert_exporter": "python",
   "pygments_lexer": "ipython2",
   "version": "2.7.13"
  }
 },
 "nbformat": 4,
 "nbformat_minor": 0
}
