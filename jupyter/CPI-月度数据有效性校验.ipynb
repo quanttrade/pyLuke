{
 "cells": [
  {
   "cell_type": "markdown",
   "metadata": {},
   "source": [
    "# 1. 数据准备"
   ]
  },
  {
   "cell_type": "code",
   "execution_count": 2,
   "metadata": {
    "collapsed": false
   },
   "outputs": [],
   "source": [
    "import os\n",
    "import sys\n",
    "nb_dir = os.path.split(os.getcwd())[0]\n",
    "if nb_dir not in sys.path:\n",
    "    sys.path.append(nb_dir)\n",
    "from factorModel.factorValidator import *\n",
    "from windHelper import WindHelper\n",
    "from datetime import *"
   ]
  },
  {
   "cell_type": "markdown",
   "metadata": {},
   "source": [
    "## 1.2. 获取资产价格时间序列"
   ]
  },
  {
   "cell_type": "code",
   "execution_count": 17,
   "metadata": {
    "collapsed": false
   },
   "outputs": [
    {
     "data": {
      "text/html": [
       "<div>\n",
       "<table border=\"1\" class=\"dataframe\">\n",
       "  <thead>\n",
       "    <tr style=\"text-align: right;\">\n",
       "      <th></th>\n",
       "      <th>060e.cs_close</th>\n",
       "    </tr>\n",
       "    <tr>\n",
       "      <th>trade_date</th>\n",
       "      <th></th>\n",
       "    </tr>\n",
       "  </thead>\n",
       "  <tbody>\n",
       "    <tr>\n",
       "      <th>2017-08-16</th>\n",
       "      <td>174.8687</td>\n",
       "    </tr>\n",
       "    <tr>\n",
       "      <th>2017-08-17</th>\n",
       "      <td>174.9140</td>\n",
       "    </tr>\n",
       "    <tr>\n",
       "      <th>2017-08-18</th>\n",
       "      <td>174.8482</td>\n",
       "    </tr>\n",
       "    <tr>\n",
       "      <th>2017-08-21</th>\n",
       "      <td>174.6511</td>\n",
       "    </tr>\n",
       "    <tr>\n",
       "      <th>2017-08-22</th>\n",
       "      <td>174.4612</td>\n",
       "    </tr>\n",
       "  </tbody>\n",
       "</table>\n",
       "</div>"
      ],
      "text/plain": [
       "            060e.cs_close\n",
       "trade_date               \n",
       "2017-08-16       174.8687\n",
       "2017-08-17       174.9140\n",
       "2017-08-18       174.8482\n",
       "2017-08-21       174.6511\n",
       "2017-08-22       174.4612"
      ]
     },
     "execution_count": 17,
     "metadata": {},
     "output_type": "execute_result"
    }
   ],
   "source": [
    "beginDate = datetime(2006, 1, 1)\n",
    "endDate = datetime(2017, 8, 22)\n",
    "para = \"close\"\n",
    "df = WindHelper.getMultiTimeSeriesDataFrame([\"060E.CS\"], beginDate=beginDate, endDate=endDate, para=para)\n",
    "df = df.dropna()\n",
    "df.tail()"
   ]
  },
  {
   "cell_type": "markdown",
   "metadata": {},
   "source": [
    "## 1.2. 获取因子的时间序列"
   ]
  },
  {
   "cell_type": "code",
   "execution_count": 18,
   "metadata": {
    "collapsed": false
   },
   "outputs": [
    {
     "data": {
      "text/html": [
       "<div id=\"chart_idLjMNRdnx\"</div>\n",
       "    <script type=\"text/javascript\">new Highcharts.StockChart({\"title\":{\"text\":\"\\u6d4b\\u8bd5\"},\"series\":[{\"data\":[[1138665600000,null],[1141084800000,115.9665],[1143763200000,117.3843],[1146355200000,null],[1149033600000,116.7018],[1151625600000,114.9504],[1154304000000,114.6937],[1156982400000,115.9324],[1159574400000,null],[1162252800000,118.592],[1164844800000,118.3553],[1167523200000,null],[1170201600000,118.521],[1172620800000,118.3224],[1175299200000,null],[1177891200000,117.7767],[1180569600000,117.0743],[1183161600000,null],[1185840000000,115.1695],[1188518400000,117.0715],[1191110400000,null],[1193788800000,117.4993],[1196380800000,116.7786],[1199059200000,null],[1201737600000,117.9801],[1204243200000,118.8767],[1206921600000,119.733],[1209513600000,120.1889],[1212192000000,null],[1214784000000,119.8875],[1217462400000,120.0517],[1220140800000,null],[1222732800000,null],[1225411200000,130.7215],[1228003200000,null],[1230681600000,133.5488],[1233360000000,null],[1235779200000,null],[1238457600000,131.3418],[1241049600000,132.0172],[1243728000000,null],[1246320000000,133.0338],[1248998400000,132.3316],[1251676800000,132.8442],[1254268800000,133.0484],[1256947200000,null],[1259539200000,133.4356],[1262217600000,133.7792],[1264896000000,null],[1267315200000,null],[1269993600000,137.6288],[1272585600000,139.1517],[1275264000000,140.0459],[1277856000000,140.0553],[1280534400000,null],[1283212800000,141.5548],[1285804800000,141.4064],[1288483200000,null],[1291075200000,135.4696],[1293753600000,137.2593],[1296432000000,137.04],[1298851200000,136.7549],[1301529600000,137.1593],[1304121600000,null],[1306800000000,138.1979],[1309392000000,137.6042],[1312070400000,null],[1314748800000,136.4789],[1317340800000,137.9238],[1320019200000,140.5672],[1322611200000,143.3441],[1325289600000,null],[1327968000000,146.411],[1330473600000,145.1804],[1333152000000,null],[1335744000000,null],[1338422400000,147.3378],[1341014400000,null],[1343692800000,147.5218],[1346371200000,146.6145],[1348963200000,null],[1351641600000,145.4865],[1354233600000,145.5553],[1356912000000,146.0414],[1359590400000,147.2688],[1362009600000,148.4099],[1364688000000,null],[1367280000000,null],[1369958400000,152.075],[1372550400000,null],[1375228800000,150.1171],[1377907200000,null],[1380499200000,146.9813],[1383177600000,143.7036],[1385769600000,null],[1388448000000,139.7073],[1391126400000,null],[1393545600000,144.732],[1396224000000,143.2146],[1398816000000,145.3503],[1401494400000,null],[1404086400000,151.3483],[1406764800000,149.6405],[1409443200000,null],[1412035200000,156.2075],[1414713600000,160.4519],[1417305600000,null],[1419984000000,163.6562],[1422662400000,null],[1425081600000,null],[1427760000000,161.7498],[1430352000000,165.2638],[1433030400000,null],[1435622400000,165.3418],[1438300800000,167.4446],[1440979200000,169.9528],[1443571200000,171.487],[1446249600000,null],[1448841600000,174.7664],[1451520000000,179.482],[1454198400000,null],[1456704000000,179.0364],[1459382400000,178.8689],[1461974400000,null],[1464652800000,178.2706],[1467244800000,180.2524],[1469923200000,null],[1472601600000,182.4197],[1475193600000,183.716],[1477872000000,184.234],[1480464000000,181.9515],[1483142400000,null],[1485820800000,null],[1488240000000,173.8165],[1490918400000,174.338],[1493510400000,null],[1496188800000,171.1868],[1498780800000,174.2412],[1501459200000,174.8307],[1504137600000,null]],\"name\":\"060e.cs_close\",\"yAxis\":0},{\"data\":[[1138665600000,52.1],[1141084800000,52.1],[1143763200000,55.3],[1146355200000,58.1],[1149033600000,54.8],[1151625600000,54.1],[1154304000000,52.4],[1156982400000,53.1],[1159574400000,57.0],[1162252800000,54.7],[1164844800000,55.3],[1167523200000,54.8],[1170201600000,55.1],[1172620800000,53.1],[1175299200000,56.1],[1177891200000,58.6],[1180569600000,55.7],[1183161600000,54.5],[1185840000000,53.3],[1188518400000,54.0],[1191110400000,56.1],[1193788800000,53.2],[1196380800000,55.4],[1199059200000,55.3],[1201737600000,53.0],[1204243200000,53.4],[1206921600000,58.4],[1209513600000,59.2],[1212192000000,53.3],[1214784000000,52.0],[1217462400000,48.4],[1220140800000,48.4],[1222732800000,51.2],[1225411200000,44.6],[1228003200000,38.8],[1230681600000,41.2],[1233360000000,45.3],[1235779200000,49.0],[1238457600000,52.4],[1241049600000,53.5],[1243728000000,53.1],[1246320000000,53.2],[1248998400000,53.3],[1251676800000,54.0],[1254268800000,54.3],[1256947200000,55.2],[1259539200000,55.2],[1262217600000,56.6],[1264896000000,55.8],[1267315200000,52.0],[1269993600000,55.1],[1272585600000,55.7],[1275264000000,53.9],[1277856000000,52.1],[1280534400000,51.2],[1283212800000,51.7],[1285804800000,53.8],[1288483200000,54.7],[1291075200000,55.2],[1293753600000,53.9],[1296432000000,52.9],[1298851200000,52.2],[1301529600000,53.4],[1304121600000,52.9],[1306800000000,52.0],[1309392000000,50.9],[1312070400000,50.7],[1314748800000,50.9],[1317340800000,51.2],[1320019200000,50.4],[1322611200000,49.0],[1325289600000,50.3],[1327968000000,50.5],[1330473600000,51.0],[1333152000000,53.1],[1335744000000,53.3],[1338422400000,50.4],[1341014400000,50.2],[1343692800000,50.1],[1346371200000,49.2],[1348963200000,49.8],[1351641600000,50.2],[1354233600000,50.6],[1356912000000,50.6],[1359590400000,50.4],[1362009600000,50.1],[1364688000000,50.9],[1367280000000,50.6],[1369958400000,50.8],[1372550400000,50.1],[1375228800000,50.3],[1377907200000,51.0],[1380499200000,51.1],[1383177600000,51.4],[1385769600000,51.4],[1388448000000,51.0],[1391126400000,50.5],[1393545600000,50.2],[1396224000000,50.3],[1398816000000,50.4],[1401494400000,50.8],[1404086400000,51.0],[1406764800000,51.7],[1409443200000,51.1],[1412035200000,51.1],[1414713600000,50.8],[1417305600000,50.3],[1419984000000,50.1],[1422662400000,49.8],[1425081600000,49.9],[1427760000000,50.1],[1430352000000,50.1],[1433030400000,50.2],[1435622400000,50.2],[1438300800000,50.0],[1440979200000,49.7],[1443571200000,49.8],[1446249600000,49.8],[1448841600000,49.6],[1451520000000,49.7],[1454198400000,49.4],[1456704000000,49.0],[1459382400000,50.2],[1461974400000,50.1],[1464652800000,50.1],[1467244800000,50.0],[1469923200000,49.9],[1472601600000,50.4],[1475193600000,50.4],[1477872000000,51.2],[1480464000000,51.7],[1483142400000,51.4],[1485820800000,51.3],[1488240000000,51.6],[1490918400000,51.8],[1493510400000,51.2],[1496188800000,51.2],[1498780800000,51.7],[1501459200000,51.4],[1504137600000,51.7]],\"name\":\"m0017126_close (right)\",\"yAxis\":1}],\"yAxis\":[{},{\"opposite\":true}],\"chart\":{\"renderTo\":\"chart_idLjMNRdnx\"},\"xAxis\":{\"type\":\"datetime\",\"title\":{\"text\":\"trade_date\"}},\"legend\":{\"enabled\":true}});</script>"
      ],
      "text/plain": [
       "<IPython.core.display.HTML object>"
      ]
     },
     "metadata": {},
     "output_type": "display_data"
    }
   ],
   "source": [
    "factor_df = WindHelper.getMultiTimeSeriesDataFrame([\"M0017126\"], beginDate=beginDate, endDate=endDate,\n",
    "                                                para=para)\n",
    "factor_df = factor_df.dropna()\n",
    "factor_df.index = factor_df.index - timedelta(days=0)\n",
    "%matplotlib inline\n",
    "import pandas_highcharts\n",
    "from pandas_highcharts.display import display_charts\n",
    "import matplotlib.pyplot as plt\n",
    "display_charts(factor_df.join(df, how=\"left\"), chart_type=\"stock\", secondary_y=factor_df.columns[0],title=\"测试\")"
   ]
  },
  {
   "cell_type": "markdown",
   "metadata": {},
   "source": [
    "# 2.因子校验"
   ]
  },
  {
   "cell_type": "markdown",
   "metadata": {},
   "source": [
    "## 2.0 双向校验"
   ]
  },
  {
   "cell_type": "code",
   "execution_count": 19,
   "metadata": {
    "collapsed": true
   },
   "outputs": [],
   "source": [
    "config = {\"relation\":NEGATIVE,\"type\":UP,\"his_count\": 12,\"std_count\":0.5, \"period\": 1}"
   ]
  },
  {
   "cell_type": "code",
   "execution_count": 20,
   "metadata": {
    "collapsed": false
   },
   "outputs": [],
   "source": [
    "report = sharp_ratio_test(df[df.columns[0]], factor_df[factor_df.columns[0]], \"e001\", config, lag=2, short=False)"
   ]
  },
  {
   "cell_type": "code",
   "execution_count": 21,
   "metadata": {
    "collapsed": false
   },
   "outputs": [
    {
     "data": {
      "text/plain": [
       "<matplotlib.axes._subplots.AxesSubplot at 0x12b59fb0>"
      ]
     },
     "execution_count": 21,
     "metadata": {},
     "output_type": "execute_result"
    },
    {
     "data": {
      "image/png": "[encoded data removed]",
      "text/plain": [
       "<matplotlib.figure.Figure at 0x126b5210>"
      ]
     },
     "metadata": {},
     "output_type": "display_data"
    }
   ],
   "source": [
    "report[\"ts\"][[\"value\",\"base\"]].plot()"
   ]
  },
  {
   "cell_type": "markdown",
   "metadata": {},
   "source": [
    "## 2.1. e001事件：短期高点"
   ]
  },
  {
   "cell_type": "markdown",
   "metadata": {},
   "source": [
    "设置因子事件的配置文件"
   ]
  },
  {
   "cell_type": "code",
   "execution_count": 44,
   "metadata": {
    "collapsed": false
   },
   "outputs": [],
   "source": [
    "config = {\"relation\":NEGATIVE,\"type\":UP,\"his_count\": 12,\"std_count\":1.8, \"period\": 1}"
   ]
  },
  {
   "cell_type": "code",
   "execution_count": 45,
   "metadata": {
    "collapsed": false
   },
   "outputs": [],
   "source": [
    "# adjust_factor_series = get_adj_factor_series(df, factor_df, lag=2)\n",
    "# len(df[\"060e.cs_close\"])\n",
    "report = perform_after_event(df[df.columns[0]], factor_df[factor_df.columns[0]], \"e001\", config, lag=1, asset_price=False)"
   ]
  },
  {
   "cell_type": "code",
   "execution_count": 47,
   "metadata": {
    "collapsed": false
   },
   "outputs": [
    {
     "name": "stdout",
     "output_type": "stream",
     "text": [
      "6\n",
      "-20.38\n",
      "17.08\n",
      "0.833333333333\n"
     ]
    },
    {
     "data": {
      "text/plain": [
       "2007-05-08    48.67\n",
       "2008-05-04     8.84\n",
       "2012-05-03   -20.38\n",
       "2013-11-01    28.56\n",
       "2016-11-01    25.18\n",
       "2016-12-01    11.61\n",
       "Name: bp, dtype: float64"
      ]
     },
     "execution_count": 47,
     "metadata": {},
     "output_type": "execute_result"
    }
   ],
   "source": [
    "%matplotlib inline\n",
    "print len(report[\"ts\"])\n",
    "print report[\"ts\"][\"bp\"].min()\n",
    "print report[\"ts\"][\"bp\"].mean()\n",
    "print (report[\"ts\"][\"bp\"] > 0).sum()*1.0/len(report[\"ts\"])\n",
    "report[\"ts\"][\"bp\"]"
   ]
  },
  {
   "cell_type": "code",
   "execution_count": 33,
   "metadata": {
    "collapsed": false
   },
   "outputs": [
    {
     "data": {
      "text/html": [
       "<div>\n",
       "<table border=\"1\" class=\"dataframe\">\n",
       "  <thead>\n",
       "    <tr style=\"text-align: right;\">\n",
       "      <th></th>\n",
       "      <th>m0017126_close</th>\n",
       "    </tr>\n",
       "    <tr>\n",
       "      <th>trade_date</th>\n",
       "      <th></th>\n",
       "    </tr>\n",
       "  </thead>\n",
       "  <tbody>\n",
       "    <tr>\n",
       "      <th>2017-04-30</th>\n",
       "      <td>51.2</td>\n",
       "    </tr>\n",
       "    <tr>\n",
       "      <th>2017-05-31</th>\n",
       "      <td>51.2</td>\n",
       "    </tr>\n",
       "    <tr>\n",
       "      <th>2017-06-30</th>\n",
       "      <td>51.7</td>\n",
       "    </tr>\n",
       "    <tr>\n",
       "      <th>2017-07-31</th>\n",
       "      <td>51.4</td>\n",
       "    </tr>\n",
       "    <tr>\n",
       "      <th>2017-08-31</th>\n",
       "      <td>51.7</td>\n",
       "    </tr>\n",
       "  </tbody>\n",
       "</table>\n",
       "</div>"
      ],
      "text/plain": [
       "            m0017126_close\n",
       "trade_date                \n",
       "2017-04-30            51.2\n",
       "2017-05-31            51.2\n",
       "2017-06-30            51.7\n",
       "2017-07-31            51.4\n",
       "2017-08-31            51.7"
      ]
     },
     "execution_count": 33,
     "metadata": {},
     "output_type": "execute_result"
    }
   ],
   "source": [
    "factor_df.tail()"
   ]
  },
  {
   "cell_type": "code",
   "execution_count": 40,
   "metadata": {
    "collapsed": false
   },
   "outputs": [
    {
     "data": {
      "text/plain": [
       "-0.064320885822273577"
      ]
     },
     "execution_count": 40,
     "metadata": {},
     "output_type": "execute_result"
    }
   ],
   "source": [
    "e001(adjust_factor_series=factor_df[factor_df.columns[0]],cur_date=datetime(2017,9,9), config=config)"
   ]
  },
  {
   "cell_type": "markdown",
   "metadata": {},
   "source": [
    "# 2.2.  e003x2事件(下跌后反转)"
   ]
  },
  {
   "cell_type": "code",
   "execution_count": 14,
   "metadata": {
    "collapsed": false
   },
   "outputs": [],
   "source": [
    "config = {\n",
    "    \"relation\":NEGATIVE,\n",
    "    \"type\":UP,\n",
    "    \"his_count\": 3,\n",
    "    \"threshold\":0, \n",
    "    \"threshold2\":0,\n",
    "    \"period\": 1\n",
    "}\n",
    "report2 = perform_after_event(df[df.columns[0]], factor_df[factor_df.columns[0]], \"e003x2\", config, lag=1, asset_price=False)"
   ]
  },
  {
   "cell_type": "code",
   "execution_count": 15,
   "metadata": {
    "collapsed": false
   },
   "outputs": [
    {
     "name": "stdout",
     "output_type": "stream",
     "text": [
      "8\n",
      "-23.0\n",
      "-1.6675\n",
      "0.5\n"
     ]
    },
    {
     "data": {
      "text/plain": [
       "2006-09-01   -23.00\n",
       "2007-09-03    13.14\n",
       "2010-09-01     9.84\n",
       "2011-04-01    -3.54\n",
       "2011-09-01   -21.03\n",
       "2012-10-09    10.63\n",
       "2014-04-01   -20.52\n",
       "2015-03-02    21.14\n",
       "Name: bp, dtype: float64"
      ]
     },
     "execution_count": 15,
     "metadata": {},
     "output_type": "execute_result"
    }
   ],
   "source": [
    "%matplotlib inline\n",
    "print len(report2[\"ts\"])\n",
    "print report2[\"ts\"][\"bp\"].min()\n",
    "print report2[\"ts\"][\"bp\"].mean()\n",
    "print (report2[\"ts\"][\"bp\"] > 0).sum()*1.0/len(report2[\"ts\"])\n",
    "report2[\"ts\"][\"bp\"]"
   ]
  },
  {
   "cell_type": "markdown",
   "metadata": {
    "collapsed": false
   },
   "source": [
    "## 2.3. e003x1事件(上涨后反转)"
   ]
  },
  {
   "cell_type": "code",
   "execution_count": 16,
   "metadata": {
    "collapsed": true
   },
   "outputs": [],
   "source": [
    "config = {\n",
    "    \"relation\":NEGATIVE,\n",
    "    \"type\":DOWN,\n",
    "    \"his_count\": 3,\n",
    "    \"threshold\":0, \n",
    "    \"threshold2\":0,\n",
    "    \"period\": 1\n",
    "}\n",
    "report2 = perform_after_event(df[df.columns[0]], factor_df[factor_df.columns[0]], \"e003x1\", config, lag=1, asset_price=False)"
   ]
  },
  {
   "cell_type": "code",
   "execution_count": 19,
   "metadata": {
    "collapsed": false
   },
   "outputs": [
    {
     "name": "stdout",
     "output_type": "stream",
     "text": [
      "5\n",
      "37.21\n",
      "8.428\n",
      "0.6\n"
     ]
    },
    {
     "data": {
      "text/plain": [
       "2008-06-03    37.21\n",
       "2009-06-01    16.85\n",
       "2011-01-04    15.80\n",
       "2012-06-01    -2.12\n",
       "2014-09-02   -25.60\n",
       "Name: bp, dtype: float64"
      ]
     },
     "execution_count": 19,
     "metadata": {},
     "output_type": "execute_result"
    }
   ],
   "source": [
    "%matplotlib inline\n",
    "print len(report2[\"ts\"])\n",
    "print report2[\"ts\"][\"bp\"].max()\n",
    "print report2[\"ts\"][\"bp\"].mean()\n",
    "print (report2[\"ts\"][\"bp\"] > 0).sum()*1.0/len(report2[\"ts\"])\n",
    "report2[\"ts\"][\"bp\"]"
   ]
  },
  {
   "cell_type": "markdown",
   "metadata": {},
   "source": [
    "e003系列相对于PMI来说，基本无效"
   ]
  },
  {
   "cell_type": "markdown",
   "metadata": {},
   "source": [
    "## e002x1事件(连续上涨)"
   ]
  },
  {
   "cell_type": "code",
   "execution_count": 28,
   "metadata": {
    "collapsed": true
   },
   "outputs": [],
   "source": [
    "config = {\n",
    "    \"relation\":NEGATIVE,\n",
    "    \"type\":UP,\n",
    "    \"his_count\": 5,\n",
    "    \"threshold\":0, \n",
    "    \"period\": 1\n",
    "}\n",
    "report2 = perform_after_event(df[df.columns[0]], factor_df[factor_df.columns[0]], \"e002x1\", config, lag=1, asset_price=False)"
   ]
  },
  {
   "cell_type": "code",
   "execution_count": 29,
   "metadata": {
    "collapsed": false
   },
   "outputs": [
    {
     "name": "stdout",
     "output_type": "stream",
     "text": [
      "4\n",
      "-20.38\n",
      "-9.5375\n",
      "0.0\n"
     ]
    },
    {
     "data": {
      "text/plain": [
       "2009-05-04    -4.77\n",
       "2009-11-03   -12.21\n",
       "2012-05-03   -20.38\n",
       "2014-08-01    -0.79\n",
       "Name: bp, dtype: float64"
      ]
     },
     "execution_count": 29,
     "metadata": {},
     "output_type": "execute_result"
    }
   ],
   "source": [
    "%matplotlib inline\n",
    "print len(report2[\"ts\"])\n",
    "print report2[\"ts\"][\"bp\"].min()\n",
    "print report2[\"ts\"][\"bp\"].mean()\n",
    "print (report2[\"ts\"][\"bp\"] > 0).sum()*1.0/len(report2[\"ts\"])\n",
    "report2[\"ts\"][\"bp\"]"
   ]
  }
 ],
 "metadata": {
  "kernelspec": {
   "display_name": "Python 2",
   "language": "python",
   "name": "python2"
  },
  "language_info": {
   "codemirror_mode": {
    "name": "ipython",
    "version": 2
   },
   "file_extension": ".py",
   "mimetype": "text/x-python",
   "name": "python",
   "nbconvert_exporter": "python",
   "pygments_lexer": "ipython2",
   "version": "2.7.13"
  }
 },
 "nbformat": 4,
 "nbformat_minor": 0
}
